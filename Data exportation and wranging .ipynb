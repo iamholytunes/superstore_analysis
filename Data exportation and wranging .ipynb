{
 "cells": [
  {
   "cell_type": "markdown",
   "id": "426b2ee3",
   "metadata": {},
   "source": [
    "# Pandas\n",
    "### Pandas is an open source libary which is use for data exploration, wranging and analysis\n",
    "# Matplotlib\n",
    "### Matplotlib is used for data visualization"
   ]
  },
  {
   "cell_type": "code",
   "execution_count": 1,
   "id": "91b6ea50",
   "metadata": {},
   "outputs": [],
   "source": [
    "# Import Pandas\n",
    "import pandas as pd\n",
    "import matplotlib.pyplot as plt"
   ]
  },
  {
   "cell_type": "code",
   "execution_count": 2,
   "id": "ed9be001",
   "metadata": {},
   "outputs": [],
   "source": [
    "# load Dataset\n",
    "# \"\"\"\"\n",
    "# to read excel files ==> pd.read_excel(\"filename.xlsx\")\n",
    "# to read CSV files ==> pd.read_csv(\"filename.csv\")\n",
    "# to read json files ==> pd.read_json(\"filename.json\")\n",
    "# to read pickle files ==> pd.read_pickle(\"filename.pkl\")\n",
    "# \"\"\"\""
   ]
  },
  {
   "cell_type": "code",
   "execution_count": 3,
   "id": "6df3485d",
   "metadata": {},
   "outputs": [],
   "source": [
    "data = pd.read_excel(\"sample superstore.xlsx\", header=1)"
   ]
  },
  {
   "cell_type": "code",
   "execution_count": 4,
   "id": "232c91ec",
   "metadata": {},
   "outputs": [
    {
     "data": {
      "text/plain": [
       "pandas.core.frame.DataFrame"
      ]
     },
     "execution_count": 4,
     "metadata": {},
     "output_type": "execute_result"
    }
   ],
   "source": [
    "type(data)"
   ]
  },
  {
   "cell_type": "code",
   "execution_count": 5,
   "id": "e8b2e91b",
   "metadata": {},
   "outputs": [
    {
     "data": {
      "text/html": [
       "<div>\n",
       "<style scoped>\n",
       "    .dataframe tbody tr th:only-of-type {\n",
       "        vertical-align: middle;\n",
       "    }\n",
       "\n",
       "    .dataframe tbody tr th {\n",
       "        vertical-align: top;\n",
       "    }\n",
       "\n",
       "    .dataframe thead th {\n",
       "        text-align: right;\n",
       "    }\n",
       "</style>\n",
       "<table border=\"1\" class=\"dataframe\">\n",
       "  <thead>\n",
       "    <tr style=\"text-align: right;\">\n",
       "      <th></th>\n",
       "      <th>Unnamed: 0</th>\n",
       "      <th>Order ID</th>\n",
       "      <th>Order Priority</th>\n",
       "      <th>Discount</th>\n",
       "      <th>Unit Price</th>\n",
       "      <th>Shipping Cost</th>\n",
       "      <th>Customer ID</th>\n",
       "      <th>Customer Name</th>\n",
       "      <th>Ship Mode</th>\n",
       "      <th>Customer Segment</th>\n",
       "      <th>...</th>\n",
       "      <th>Region</th>\n",
       "      <th>State or Province</th>\n",
       "      <th>City</th>\n",
       "      <th>Postal Code</th>\n",
       "      <th>Order Date</th>\n",
       "      <th>Ship Date</th>\n",
       "      <th>Shipping Days</th>\n",
       "      <th>Profit</th>\n",
       "      <th>Quantity ordered new</th>\n",
       "      <th>Sales</th>\n",
       "    </tr>\n",
       "  </thead>\n",
       "  <tbody>\n",
       "    <tr>\n",
       "      <th>0</th>\n",
       "      <td>NaN</td>\n",
       "      <td>88525</td>\n",
       "      <td>Not Specified</td>\n",
       "      <td>0.01</td>\n",
       "      <td>2.88</td>\n",
       "      <td>0.50</td>\n",
       "      <td>2</td>\n",
       "      <td>Janice Fletcher</td>\n",
       "      <td>Regular Air</td>\n",
       "      <td>Corporate</td>\n",
       "      <td>...</td>\n",
       "      <td>Central</td>\n",
       "      <td>Illinois</td>\n",
       "      <td>Addison</td>\n",
       "      <td>60101</td>\n",
       "      <td>2012-05-28</td>\n",
       "      <td>2012-05-30</td>\n",
       "      <td>2</td>\n",
       "      <td>1.3200</td>\n",
       "      <td>2</td>\n",
       "      <td>5.9</td>\n",
       "    </tr>\n",
       "    <tr>\n",
       "      <th>1</th>\n",
       "      <td>NaN</td>\n",
       "      <td>88522</td>\n",
       "      <td>High</td>\n",
       "      <td>0.01</td>\n",
       "      <td>2.84</td>\n",
       "      <td>0.93</td>\n",
       "      <td>3</td>\n",
       "      <td>Bonnie Potter</td>\n",
       "      <td>Express Air</td>\n",
       "      <td>Corporate</td>\n",
       "      <td>...</td>\n",
       "      <td>West</td>\n",
       "      <td>Washington</td>\n",
       "      <td>Anacortes</td>\n",
       "      <td>98221</td>\n",
       "      <td>2010-07-07</td>\n",
       "      <td>2010-07-08</td>\n",
       "      <td>1</td>\n",
       "      <td>4.5600</td>\n",
       "      <td>4</td>\n",
       "      <td>13.01</td>\n",
       "    </tr>\n",
       "    <tr>\n",
       "      <th>2</th>\n",
       "      <td>NaN</td>\n",
       "      <td>88523</td>\n",
       "      <td>Not Specified</td>\n",
       "      <td>0.03</td>\n",
       "      <td>6.68</td>\n",
       "      <td>6.15</td>\n",
       "      <td>3</td>\n",
       "      <td>Bonnie Potter</td>\n",
       "      <td>Express Air</td>\n",
       "      <td>Corporate</td>\n",
       "      <td>...</td>\n",
       "      <td>West</td>\n",
       "      <td>Washington</td>\n",
       "      <td>Anacortes</td>\n",
       "      <td>98221</td>\n",
       "      <td>2011-07-27</td>\n",
       "      <td>2011-07-28</td>\n",
       "      <td>1</td>\n",
       "      <td>-47.6400</td>\n",
       "      <td>7</td>\n",
       "      <td>49.92</td>\n",
       "    </tr>\n",
       "    <tr>\n",
       "      <th>3</th>\n",
       "      <td>NaN</td>\n",
       "      <td>88523</td>\n",
       "      <td>Not Specified</td>\n",
       "      <td>0.01</td>\n",
       "      <td>5.68</td>\n",
       "      <td>3.60</td>\n",
       "      <td>3</td>\n",
       "      <td>Bonnie Potter</td>\n",
       "      <td>Regular Air</td>\n",
       "      <td>Corporate</td>\n",
       "      <td>...</td>\n",
       "      <td>West</td>\n",
       "      <td>Washington</td>\n",
       "      <td>Anacortes</td>\n",
       "      <td>98221</td>\n",
       "      <td>2011-07-27</td>\n",
       "      <td>2011-07-28</td>\n",
       "      <td>1</td>\n",
       "      <td>-30.5100</td>\n",
       "      <td>7</td>\n",
       "      <td>41.64</td>\n",
       "    </tr>\n",
       "    <tr>\n",
       "      <th>4</th>\n",
       "      <td>NaN</td>\n",
       "      <td>88523</td>\n",
       "      <td>Not Specified</td>\n",
       "      <td>0.00</td>\n",
       "      <td>205.99</td>\n",
       "      <td>2.50</td>\n",
       "      <td>3</td>\n",
       "      <td>Bonnie Potter</td>\n",
       "      <td>Express Air</td>\n",
       "      <td>Corporate</td>\n",
       "      <td>...</td>\n",
       "      <td>West</td>\n",
       "      <td>Washington</td>\n",
       "      <td>Anacortes</td>\n",
       "      <td>98221</td>\n",
       "      <td>2011-07-27</td>\n",
       "      <td>2011-07-27</td>\n",
       "      <td>0</td>\n",
       "      <td>998.2023</td>\n",
       "      <td>8</td>\n",
       "      <td>1446.67</td>\n",
       "    </tr>\n",
       "  </tbody>\n",
       "</table>\n",
       "<p>5 rows × 25 columns</p>\n",
       "</div>"
      ],
      "text/plain": [
       "   Unnamed: 0  Order ID Order Priority  Discount  Unit Price  Shipping Cost  \\\n",
       "0         NaN     88525  Not Specified      0.01        2.88           0.50   \n",
       "1         NaN     88522           High      0.01        2.84           0.93   \n",
       "2         NaN     88523  Not Specified      0.03        6.68           6.15   \n",
       "3         NaN     88523  Not Specified      0.01        5.68           3.60   \n",
       "4         NaN     88523  Not Specified      0.00      205.99           2.50   \n",
       "\n",
       "   Customer ID    Customer Name    Ship Mode Customer Segment  ...   Region  \\\n",
       "0            2  Janice Fletcher  Regular Air        Corporate  ...  Central   \n",
       "1            3    Bonnie Potter  Express Air        Corporate  ...     West   \n",
       "2            3    Bonnie Potter  Express Air        Corporate  ...     West   \n",
       "3            3    Bonnie Potter  Regular Air        Corporate  ...     West   \n",
       "4            3    Bonnie Potter  Express Air        Corporate  ...     West   \n",
       "\n",
       "  State or Province       City Postal Code  Order Date  Ship Date  \\\n",
       "0          Illinois    Addison       60101  2012-05-28 2012-05-30   \n",
       "1        Washington  Anacortes       98221  2010-07-07 2010-07-08   \n",
       "2        Washington  Anacortes       98221  2011-07-27 2011-07-28   \n",
       "3        Washington  Anacortes       98221  2011-07-27 2011-07-28   \n",
       "4        Washington  Anacortes       98221  2011-07-27 2011-07-27   \n",
       "\n",
       "  Shipping Days    Profit  Quantity ordered new    Sales  \n",
       "0             2    1.3200                     2      5.9  \n",
       "1             1    4.5600                     4    13.01  \n",
       "2             1  -47.6400                     7    49.92  \n",
       "3             1  -30.5100                     7    41.64  \n",
       "4             0  998.2023                     8  1446.67  \n",
       "\n",
       "[5 rows x 25 columns]"
      ]
     },
     "execution_count": 5,
     "metadata": {},
     "output_type": "execute_result"
    }
   ],
   "source": [
    "# how to get first five rows\n",
    "data.head()"
   ]
  },
  {
   "cell_type": "code",
   "execution_count": 6,
   "id": "16c058c8",
   "metadata": {},
   "outputs": [
    {
     "data": {
      "text/html": [
       "<div>\n",
       "<style scoped>\n",
       "    .dataframe tbody tr th:only-of-type {\n",
       "        vertical-align: middle;\n",
       "    }\n",
       "\n",
       "    .dataframe tbody tr th {\n",
       "        vertical-align: top;\n",
       "    }\n",
       "\n",
       "    .dataframe thead th {\n",
       "        text-align: right;\n",
       "    }\n",
       "</style>\n",
       "<table border=\"1\" class=\"dataframe\">\n",
       "  <thead>\n",
       "    <tr style=\"text-align: right;\">\n",
       "      <th></th>\n",
       "      <th>Unnamed: 0</th>\n",
       "      <th>Order ID</th>\n",
       "      <th>Order Priority</th>\n",
       "      <th>Discount</th>\n",
       "      <th>Unit Price</th>\n",
       "      <th>Shipping Cost</th>\n",
       "      <th>Customer ID</th>\n",
       "      <th>Customer Name</th>\n",
       "      <th>Ship Mode</th>\n",
       "      <th>Customer Segment</th>\n",
       "      <th>...</th>\n",
       "      <th>Region</th>\n",
       "      <th>State or Province</th>\n",
       "      <th>City</th>\n",
       "      <th>Postal Code</th>\n",
       "      <th>Order Date</th>\n",
       "      <th>Ship Date</th>\n",
       "      <th>Shipping Days</th>\n",
       "      <th>Profit</th>\n",
       "      <th>Quantity ordered new</th>\n",
       "      <th>Sales</th>\n",
       "    </tr>\n",
       "  </thead>\n",
       "  <tbody>\n",
       "    <tr>\n",
       "      <th>9428</th>\n",
       "      <td>NaN</td>\n",
       "      <td>87532</td>\n",
       "      <td>Critical</td>\n",
       "      <td>0.06</td>\n",
       "      <td>35.89</td>\n",
       "      <td>14.72</td>\n",
       "      <td>3402</td>\n",
       "      <td>Frederick Cole</td>\n",
       "      <td>Regular Air</td>\n",
       "      <td>Consumer</td>\n",
       "      <td>...</td>\n",
       "      <td>East</td>\n",
       "      <td>West Virginia</td>\n",
       "      <td>Charleston</td>\n",
       "      <td>25314</td>\n",
       "      <td>2013-05-14</td>\n",
       "      <td>2013-05-15</td>\n",
       "      <td>1</td>\n",
       "      <td>137.860000</td>\n",
       "      <td>13</td>\n",
       "      <td>447.87</td>\n",
       "    </tr>\n",
       "    <tr>\n",
       "      <th>9429</th>\n",
       "      <td>NaN</td>\n",
       "      <td>87532</td>\n",
       "      <td>Critical</td>\n",
       "      <td>0.00</td>\n",
       "      <td>3.34</td>\n",
       "      <td>7.49</td>\n",
       "      <td>3402</td>\n",
       "      <td>Frederick Cole</td>\n",
       "      <td>Regular Air</td>\n",
       "      <td>Consumer</td>\n",
       "      <td>...</td>\n",
       "      <td>East</td>\n",
       "      <td>West Virginia</td>\n",
       "      <td>Charleston</td>\n",
       "      <td>25314</td>\n",
       "      <td>2013-05-14</td>\n",
       "      <td>2013-05-14</td>\n",
       "      <td>0</td>\n",
       "      <td>-39.070000</td>\n",
       "      <td>3</td>\n",
       "      <td>13.23</td>\n",
       "    </tr>\n",
       "    <tr>\n",
       "      <th>9430</th>\n",
       "      <td>NaN</td>\n",
       "      <td>87533</td>\n",
       "      <td>Not Specified</td>\n",
       "      <td>0.08</td>\n",
       "      <td>550.98</td>\n",
       "      <td>45.70</td>\n",
       "      <td>3402</td>\n",
       "      <td>Frederick Cole</td>\n",
       "      <td>Delivery Truck</td>\n",
       "      <td>Consumer</td>\n",
       "      <td>...</td>\n",
       "      <td>East</td>\n",
       "      <td>West Virginia</td>\n",
       "      <td>Charleston</td>\n",
       "      <td>25314</td>\n",
       "      <td>2013-09-12</td>\n",
       "      <td>2013-09-14</td>\n",
       "      <td>2</td>\n",
       "      <td>-1225.029097</td>\n",
       "      <td>4</td>\n",
       "      <td>2215.93</td>\n",
       "    </tr>\n",
       "    <tr>\n",
       "      <th>9431</th>\n",
       "      <td>NaN</td>\n",
       "      <td>87530</td>\n",
       "      <td>High</td>\n",
       "      <td>0.10</td>\n",
       "      <td>105.98</td>\n",
       "      <td>13.99</td>\n",
       "      <td>3403</td>\n",
       "      <td>Tammy Buckley</td>\n",
       "      <td>Express Air</td>\n",
       "      <td>Consumer</td>\n",
       "      <td>...</td>\n",
       "      <td>West</td>\n",
       "      <td>Wyoming</td>\n",
       "      <td>Cheyenne</td>\n",
       "      <td>82001</td>\n",
       "      <td>2010-02-08</td>\n",
       "      <td>2010-02-11</td>\n",
       "      <td>3</td>\n",
       "      <td>349.485000</td>\n",
       "      <td>5</td>\n",
       "      <td>506.5</td>\n",
       "    </tr>\n",
       "    <tr>\n",
       "      <th>9432</th>\n",
       "      <td>NaN</td>\n",
       "      <td>87533</td>\n",
       "      <td>Not Specified</td>\n",
       "      <td>0.09</td>\n",
       "      <td>7.78</td>\n",
       "      <td>2.50</td>\n",
       "      <td>3403</td>\n",
       "      <td>Tammy Buckley</td>\n",
       "      <td>Express Air</td>\n",
       "      <td>Consumer</td>\n",
       "      <td>...</td>\n",
       "      <td>West</td>\n",
       "      <td>Wyoming</td>\n",
       "      <td>Cheyenne</td>\n",
       "      <td>82001</td>\n",
       "      <td>2013-09-12</td>\n",
       "      <td>2013-09-14</td>\n",
       "      <td>2</td>\n",
       "      <td>78.062400</td>\n",
       "      <td>23</td>\n",
       "      <td>172.48</td>\n",
       "    </tr>\n",
       "  </tbody>\n",
       "</table>\n",
       "<p>5 rows × 25 columns</p>\n",
       "</div>"
      ],
      "text/plain": [
       "      Unnamed: 0  Order ID Order Priority  Discount  Unit Price  \\\n",
       "9428         NaN     87532       Critical      0.06       35.89   \n",
       "9429         NaN     87532       Critical      0.00        3.34   \n",
       "9430         NaN     87533  Not Specified      0.08      550.98   \n",
       "9431         NaN     87530           High      0.10      105.98   \n",
       "9432         NaN     87533  Not Specified      0.09        7.78   \n",
       "\n",
       "      Shipping Cost  Customer ID   Customer Name       Ship Mode  \\\n",
       "9428          14.72         3402  Frederick Cole     Regular Air   \n",
       "9429           7.49         3402  Frederick Cole     Regular Air   \n",
       "9430          45.70         3402  Frederick Cole  Delivery Truck   \n",
       "9431          13.99         3403   Tammy Buckley     Express Air   \n",
       "9432           2.50         3403   Tammy Buckley     Express Air   \n",
       "\n",
       "     Customer Segment  ... Region State or Province        City Postal Code  \\\n",
       "9428         Consumer  ...   East     West Virginia  Charleston       25314   \n",
       "9429         Consumer  ...   East     West Virginia  Charleston       25314   \n",
       "9430         Consumer  ...   East     West Virginia  Charleston       25314   \n",
       "9431         Consumer  ...   West           Wyoming    Cheyenne       82001   \n",
       "9432         Consumer  ...   West           Wyoming    Cheyenne       82001   \n",
       "\n",
       "      Order Date  Ship Date Shipping Days       Profit  Quantity ordered new  \\\n",
       "9428  2013-05-14 2013-05-15             1   137.860000                    13   \n",
       "9429  2013-05-14 2013-05-14             0   -39.070000                     3   \n",
       "9430  2013-09-12 2013-09-14             2 -1225.029097                     4   \n",
       "9431  2010-02-08 2010-02-11             3   349.485000                     5   \n",
       "9432  2013-09-12 2013-09-14             2    78.062400                    23   \n",
       "\n",
       "        Sales  \n",
       "9428   447.87  \n",
       "9429    13.23  \n",
       "9430  2215.93  \n",
       "9431    506.5  \n",
       "9432   172.48  \n",
       "\n",
       "[5 rows x 25 columns]"
      ]
     },
     "execution_count": 6,
     "metadata": {},
     "output_type": "execute_result"
    }
   ],
   "source": [
    "# how to get last five rows\n",
    "data.tail()"
   ]
  },
  {
   "cell_type": "code",
   "execution_count": 7,
   "id": "d6dddace",
   "metadata": {},
   "outputs": [
    {
     "data": {
      "text/html": [
       "<div>\n",
       "<style scoped>\n",
       "    .dataframe tbody tr th:only-of-type {\n",
       "        vertical-align: middle;\n",
       "    }\n",
       "\n",
       "    .dataframe tbody tr th {\n",
       "        vertical-align: top;\n",
       "    }\n",
       "\n",
       "    .dataframe thead th {\n",
       "        text-align: right;\n",
       "    }\n",
       "</style>\n",
       "<table border=\"1\" class=\"dataframe\">\n",
       "  <thead>\n",
       "    <tr style=\"text-align: right;\">\n",
       "      <th></th>\n",
       "      <th>Unnamed: 0</th>\n",
       "      <th>Order ID</th>\n",
       "      <th>Order Priority</th>\n",
       "      <th>Discount</th>\n",
       "      <th>Unit Price</th>\n",
       "      <th>Shipping Cost</th>\n",
       "      <th>Customer ID</th>\n",
       "      <th>Customer Name</th>\n",
       "      <th>Ship Mode</th>\n",
       "      <th>Customer Segment</th>\n",
       "      <th>...</th>\n",
       "      <th>Region</th>\n",
       "      <th>State or Province</th>\n",
       "      <th>City</th>\n",
       "      <th>Postal Code</th>\n",
       "      <th>Order Date</th>\n",
       "      <th>Ship Date</th>\n",
       "      <th>Shipping Days</th>\n",
       "      <th>Profit</th>\n",
       "      <th>Quantity ordered new</th>\n",
       "      <th>Sales</th>\n",
       "    </tr>\n",
       "  </thead>\n",
       "  <tbody>\n",
       "    <tr>\n",
       "      <th>9129</th>\n",
       "      <td>NaN</td>\n",
       "      <td>87975</td>\n",
       "      <td>Low</td>\n",
       "      <td>0.08</td>\n",
       "      <td>262.11</td>\n",
       "      <td>62.74</td>\n",
       "      <td>3299</td>\n",
       "      <td>Stuart McLean</td>\n",
       "      <td>Delivery Truck</td>\n",
       "      <td>Consumer</td>\n",
       "      <td>...</td>\n",
       "      <td>South</td>\n",
       "      <td>Florida</td>\n",
       "      <td>Riviera Beach</td>\n",
       "      <td>33404</td>\n",
       "      <td>2011-07-20</td>\n",
       "      <td>2011-07-27</td>\n",
       "      <td>7</td>\n",
       "      <td>22.398</td>\n",
       "      <td>3</td>\n",
       "      <td>792.89</td>\n",
       "    </tr>\n",
       "  </tbody>\n",
       "</table>\n",
       "<p>1 rows × 25 columns</p>\n",
       "</div>"
      ],
      "text/plain": [
       "      Unnamed: 0  Order ID Order Priority  Discount  Unit Price  \\\n",
       "9129         NaN     87975            Low      0.08      262.11   \n",
       "\n",
       "      Shipping Cost  Customer ID  Customer Name       Ship Mode  \\\n",
       "9129          62.74         3299  Stuart McLean  Delivery Truck   \n",
       "\n",
       "     Customer Segment  ... Region State or Province           City  \\\n",
       "9129         Consumer  ...  South           Florida  Riviera Beach   \n",
       "\n",
       "     Postal Code  Order Date  Ship Date Shipping Days  Profit  \\\n",
       "9129       33404  2011-07-20 2011-07-27             7  22.398   \n",
       "\n",
       "      Quantity ordered new   Sales  \n",
       "9129                     3  792.89  \n",
       "\n",
       "[1 rows x 25 columns]"
      ]
     },
     "execution_count": 7,
     "metadata": {},
     "output_type": "execute_result"
    }
   ],
   "source": [
    "# return a random row\n",
    "data.sample()"
   ]
  },
  {
   "cell_type": "code",
   "execution_count": 8,
   "id": "7b3a143f",
   "metadata": {},
   "outputs": [
    {
     "data": {
      "text/plain": [
       "(9433, 25)"
      ]
     },
     "execution_count": 8,
     "metadata": {},
     "output_type": "execute_result"
    }
   ],
   "source": [
    "# Total number of rows and columns\n",
    "data.shape"
   ]
  },
  {
   "cell_type": "code",
   "execution_count": 9,
   "id": "e825595f",
   "metadata": {},
   "outputs": [
    {
     "data": {
      "text/plain": [
       "Index(['Unnamed: 0', 'Order ID', 'Order Priority', 'Discount', 'Unit Price',\n",
       "       'Shipping Cost', 'Customer ID', 'Customer Name', 'Ship Mode',\n",
       "       'Customer Segment', 'Product Category', 'Product Sub-Category',\n",
       "       'Product Container', 'Product Name', 'Product Base Margin', 'Region',\n",
       "       'State or Province', 'City', 'Postal Code', 'Order Date', 'Ship Date',\n",
       "       'Shipping Days', 'Profit', 'Quantity ordered new', 'Sales'],\n",
       "      dtype='object')"
      ]
     },
     "execution_count": 9,
     "metadata": {},
     "output_type": "execute_result"
    }
   ],
   "source": [
    "#  To get all the column name\n",
    "data.columns"
   ]
  },
  {
   "cell_type": "code",
   "execution_count": 10,
   "id": "62ce71e4",
   "metadata": {},
   "outputs": [
    {
     "data": {
      "text/html": [
       "<div>\n",
       "<style scoped>\n",
       "    .dataframe tbody tr th:only-of-type {\n",
       "        vertical-align: middle;\n",
       "    }\n",
       "\n",
       "    .dataframe tbody tr th {\n",
       "        vertical-align: top;\n",
       "    }\n",
       "\n",
       "    .dataframe thead th {\n",
       "        text-align: right;\n",
       "    }\n",
       "</style>\n",
       "<table border=\"1\" class=\"dataframe\">\n",
       "  <thead>\n",
       "    <tr style=\"text-align: right;\">\n",
       "      <th></th>\n",
       "      <th>Unnamed: 0</th>\n",
       "      <th>Order ID</th>\n",
       "      <th>Discount</th>\n",
       "      <th>Unit Price</th>\n",
       "      <th>Shipping Cost</th>\n",
       "      <th>Customer ID</th>\n",
       "      <th>Product Base Margin</th>\n",
       "      <th>Postal Code</th>\n",
       "      <th>Order Date</th>\n",
       "      <th>Ship Date</th>\n",
       "      <th>Shipping Days</th>\n",
       "      <th>Profit</th>\n",
       "      <th>Quantity ordered new</th>\n",
       "    </tr>\n",
       "  </thead>\n",
       "  <tbody>\n",
       "    <tr>\n",
       "      <th>count</th>\n",
       "      <td>0.0</td>\n",
       "      <td>9433.000000</td>\n",
       "      <td>9429.000000</td>\n",
       "      <td>9429.000000</td>\n",
       "      <td>9433.000000</td>\n",
       "      <td>9433.000000</td>\n",
       "      <td>9361.000000</td>\n",
       "      <td>9433.000000</td>\n",
       "      <td>9433</td>\n",
       "      <td>9433</td>\n",
       "      <td>9433.000000</td>\n",
       "      <td>9433.000000</td>\n",
       "      <td>9433.000000</td>\n",
       "    </tr>\n",
       "    <tr>\n",
       "      <th>mean</th>\n",
       "      <td>NaN</td>\n",
       "      <td>82322.359589</td>\n",
       "      <td>0.049637</td>\n",
       "      <td>88.374355</td>\n",
       "      <td>12.800261</td>\n",
       "      <td>1739.656737</td>\n",
       "      <td>0.512200</td>\n",
       "      <td>52438.343369</td>\n",
       "      <td>2012-03-05 22:18:29.042722560</td>\n",
       "      <td>2012-03-07 23:00:00.381638912</td>\n",
       "      <td>2.028835</td>\n",
       "      <td>139.048171</td>\n",
       "      <td>13.796353</td>\n",
       "    </tr>\n",
       "    <tr>\n",
       "      <th>min</th>\n",
       "      <td>NaN</td>\n",
       "      <td>6.000000</td>\n",
       "      <td>0.000000</td>\n",
       "      <td>0.990000</td>\n",
       "      <td>0.490000</td>\n",
       "      <td>2.000000</td>\n",
       "      <td>0.350000</td>\n",
       "      <td>1001.000000</td>\n",
       "      <td>2010-01-01 00:00:00</td>\n",
       "      <td>2010-01-02 00:00:00</td>\n",
       "      <td>0.000000</td>\n",
       "      <td>-16476.838000</td>\n",
       "      <td>1.000000</td>\n",
       "    </tr>\n",
       "    <tr>\n",
       "      <th>25%</th>\n",
       "      <td>NaN</td>\n",
       "      <td>86738.000000</td>\n",
       "      <td>0.020000</td>\n",
       "      <td>6.480000</td>\n",
       "      <td>3.170000</td>\n",
       "      <td>898.000000</td>\n",
       "      <td>0.380000</td>\n",
       "      <td>29301.000000</td>\n",
       "      <td>2011-03-08 00:00:00</td>\n",
       "      <td>2011-03-09 00:00:00</td>\n",
       "      <td>1.000000</td>\n",
       "      <td>-74.030000</td>\n",
       "      <td>5.000000</td>\n",
       "    </tr>\n",
       "    <tr>\n",
       "      <th>50%</th>\n",
       "      <td>NaN</td>\n",
       "      <td>88343.000000</td>\n",
       "      <td>0.050000</td>\n",
       "      <td>20.990000</td>\n",
       "      <td>6.050000</td>\n",
       "      <td>1750.000000</td>\n",
       "      <td>0.520000</td>\n",
       "      <td>52302.000000</td>\n",
       "      <td>2012-04-08 00:00:00</td>\n",
       "      <td>2012-04-09 00:00:00</td>\n",
       "      <td>2.000000</td>\n",
       "      <td>2.596000</td>\n",
       "      <td>10.000000</td>\n",
       "    </tr>\n",
       "    <tr>\n",
       "      <th>75%</th>\n",
       "      <td>NaN</td>\n",
       "      <td>89986.000000</td>\n",
       "      <td>0.080000</td>\n",
       "      <td>85.990000</td>\n",
       "      <td>13.990000</td>\n",
       "      <td>2579.000000</td>\n",
       "      <td>0.590000</td>\n",
       "      <td>78521.000000</td>\n",
       "      <td>2013-03-26 00:00:00</td>\n",
       "      <td>2013-03-28 00:00:00</td>\n",
       "      <td>2.000000</td>\n",
       "      <td>140.280000</td>\n",
       "      <td>17.000000</td>\n",
       "    </tr>\n",
       "    <tr>\n",
       "      <th>max</th>\n",
       "      <td>NaN</td>\n",
       "      <td>91591.000000</td>\n",
       "      <td>0.250000</td>\n",
       "      <td>6783.020000</td>\n",
       "      <td>164.730000</td>\n",
       "      <td>3403.000000</td>\n",
       "      <td>0.850000</td>\n",
       "      <td>99362.000000</td>\n",
       "      <td>2013-12-31 00:00:00</td>\n",
       "      <td>2014-01-17 00:00:00</td>\n",
       "      <td>92.000000</td>\n",
       "      <td>16332.414000</td>\n",
       "      <td>170.000000</td>\n",
       "    </tr>\n",
       "    <tr>\n",
       "      <th>std</th>\n",
       "      <td>NaN</td>\n",
       "      <td>19142.868581</td>\n",
       "      <td>0.031803</td>\n",
       "      <td>281.537895</td>\n",
       "      <td>17.183799</td>\n",
       "      <td>979.851635</td>\n",
       "      <td>0.135229</td>\n",
       "      <td>29373.373051</td>\n",
       "      <td>NaN</td>\n",
       "      <td>NaN</td>\n",
       "      <td>2.300988</td>\n",
       "      <td>998.245544</td>\n",
       "      <td>15.103544</td>\n",
       "    </tr>\n",
       "  </tbody>\n",
       "</table>\n",
       "</div>"
      ],
      "text/plain": [
       "       Unnamed: 0      Order ID     Discount   Unit Price  Shipping Cost  \\\n",
       "count         0.0   9433.000000  9429.000000  9429.000000    9433.000000   \n",
       "mean          NaN  82322.359589     0.049637    88.374355      12.800261   \n",
       "min           NaN      6.000000     0.000000     0.990000       0.490000   \n",
       "25%           NaN  86738.000000     0.020000     6.480000       3.170000   \n",
       "50%           NaN  88343.000000     0.050000    20.990000       6.050000   \n",
       "75%           NaN  89986.000000     0.080000    85.990000      13.990000   \n",
       "max           NaN  91591.000000     0.250000  6783.020000     164.730000   \n",
       "std           NaN  19142.868581     0.031803   281.537895      17.183799   \n",
       "\n",
       "       Customer ID  Product Base Margin   Postal Code  \\\n",
       "count  9433.000000          9361.000000   9433.000000   \n",
       "mean   1739.656737             0.512200  52438.343369   \n",
       "min       2.000000             0.350000   1001.000000   \n",
       "25%     898.000000             0.380000  29301.000000   \n",
       "50%    1750.000000             0.520000  52302.000000   \n",
       "75%    2579.000000             0.590000  78521.000000   \n",
       "max    3403.000000             0.850000  99362.000000   \n",
       "std     979.851635             0.135229  29373.373051   \n",
       "\n",
       "                          Order Date                      Ship Date  \\\n",
       "count                           9433                           9433   \n",
       "mean   2012-03-05 22:18:29.042722560  2012-03-07 23:00:00.381638912   \n",
       "min              2010-01-01 00:00:00            2010-01-02 00:00:00   \n",
       "25%              2011-03-08 00:00:00            2011-03-09 00:00:00   \n",
       "50%              2012-04-08 00:00:00            2012-04-09 00:00:00   \n",
       "75%              2013-03-26 00:00:00            2013-03-28 00:00:00   \n",
       "max              2013-12-31 00:00:00            2014-01-17 00:00:00   \n",
       "std                              NaN                            NaN   \n",
       "\n",
       "       Shipping Days        Profit  Quantity ordered new  \n",
       "count    9433.000000   9433.000000           9433.000000  \n",
       "mean        2.028835    139.048171             13.796353  \n",
       "min         0.000000 -16476.838000              1.000000  \n",
       "25%         1.000000    -74.030000              5.000000  \n",
       "50%         2.000000      2.596000             10.000000  \n",
       "75%         2.000000    140.280000             17.000000  \n",
       "max        92.000000  16332.414000            170.000000  \n",
       "std         2.300988    998.245544             15.103544  "
      ]
     },
     "execution_count": 10,
     "metadata": {},
     "output_type": "execute_result"
    }
   ],
   "source": [
    "# To check the data description\n",
    "data.describe()"
   ]
  },
  {
   "cell_type": "code",
   "execution_count": 11,
   "id": "bb26da22",
   "metadata": {},
   "outputs": [
    {
     "data": {
      "text/plain": [
       "Unnamed: 0                     float64\n",
       "Order ID                         int64\n",
       "Order Priority                  object\n",
       "Discount                       float64\n",
       "Unit Price                     float64\n",
       "Shipping Cost                  float64\n",
       "Customer ID                      int64\n",
       "Customer Name                   object\n",
       "Ship Mode                       object\n",
       "Customer Segment                object\n",
       "Product Category                object\n",
       "Product Sub-Category            object\n",
       "Product Container               object\n",
       "Product Name                    object\n",
       "Product Base Margin            float64\n",
       "Region                          object\n",
       "State or Province               object\n",
       "City                            object\n",
       "Postal Code                      int64\n",
       "Order Date              datetime64[ns]\n",
       "Ship Date               datetime64[ns]\n",
       "Shipping Days                    int64\n",
       "Profit                         float64\n",
       "Quantity ordered new             int64\n",
       "Sales                           object\n",
       "dtype: object"
      ]
     },
     "execution_count": 11,
     "metadata": {},
     "output_type": "execute_result"
    }
   ],
   "source": [
    "#  To check the data type of all the coloumns\n",
    "data.dtypes"
   ]
  },
  {
   "cell_type": "code",
   "execution_count": 12,
   "id": "9bbe5531",
   "metadata": {},
   "outputs": [
    {
     "name": "stdout",
     "output_type": "stream",
     "text": [
      "<class 'pandas.core.frame.DataFrame'>\n",
      "RangeIndex: 9433 entries, 0 to 9432\n",
      "Data columns (total 25 columns):\n",
      " #   Column                Non-Null Count  Dtype         \n",
      "---  ------                --------------  -----         \n",
      " 0   Unnamed: 0            0 non-null      float64       \n",
      " 1   Order ID              9433 non-null   int64         \n",
      " 2   Order Priority        9427 non-null   object        \n",
      " 3   Discount              9429 non-null   float64       \n",
      " 4   Unit Price            9429 non-null   float64       \n",
      " 5   Shipping Cost         9433 non-null   float64       \n",
      " 6   Customer ID           9433 non-null   int64         \n",
      " 7   Customer Name         9433 non-null   object        \n",
      " 8   Ship Mode             9433 non-null   object        \n",
      " 9   Customer Segment      9425 non-null   object        \n",
      " 10  Product Category      9433 non-null   object        \n",
      " 11  Product Sub-Category  9433 non-null   object        \n",
      " 12  Product Container     9433 non-null   object        \n",
      " 13  Product Name          9433 non-null   object        \n",
      " 14  Product Base Margin   9361 non-null   float64       \n",
      " 15  Region                9433 non-null   object        \n",
      " 16  State or Province     9433 non-null   object        \n",
      " 17  City                  9433 non-null   object        \n",
      " 18  Postal Code           9433 non-null   int64         \n",
      " 19  Order Date            9433 non-null   datetime64[ns]\n",
      " 20  Ship Date             9433 non-null   datetime64[ns]\n",
      " 21  Shipping Days         9433 non-null   int64         \n",
      " 22  Profit                9433 non-null   float64       \n",
      " 23  Quantity ordered new  9433 non-null   int64         \n",
      " 24  Sales                 9429 non-null   object        \n",
      "dtypes: datetime64[ns](2), float64(6), int64(5), object(12)\n",
      "memory usage: 1.8+ MB\n"
     ]
    }
   ],
   "source": [
    "# To get more infos \n",
    "data.info()"
   ]
  },
  {
   "cell_type": "code",
   "execution_count": 13,
   "id": "ad3834c5",
   "metadata": {},
   "outputs": [
    {
     "data": {
      "text/plain": [
       "Unnamed: 0              9433\n",
       "Order ID                   0\n",
       "Order Priority             6\n",
       "Discount                   4\n",
       "Unit Price                 4\n",
       "Shipping Cost              0\n",
       "Customer ID                0\n",
       "Customer Name              0\n",
       "Ship Mode                  0\n",
       "Customer Segment           8\n",
       "Product Category           0\n",
       "Product Sub-Category       0\n",
       "Product Container          0\n",
       "Product Name               0\n",
       "Product Base Margin       72\n",
       "Region                     0\n",
       "State or Province          0\n",
       "City                       0\n",
       "Postal Code                0\n",
       "Order Date                 0\n",
       "Ship Date                  0\n",
       "Shipping Days              0\n",
       "Profit                     0\n",
       "Quantity ordered new       0\n",
       "Sales                      4\n",
       "dtype: int64"
      ]
     },
     "execution_count": 13,
     "metadata": {},
     "output_type": "execute_result"
    }
   ],
   "source": [
    "# Check for null values\n",
    "data.isnull().sum()"
   ]
  },
  {
   "cell_type": "code",
   "execution_count": 14,
   "id": "5a9e79cf",
   "metadata": {},
   "outputs": [
    {
     "data": {
      "text/plain": [
       "7"
      ]
     },
     "execution_count": 14,
     "metadata": {},
     "output_type": "execute_result"
    }
   ],
   "source": [
    "# How to check for Duplicate values\n",
    "data.duplicated().sum()"
   ]
  },
  {
   "cell_type": "code",
   "execution_count": 15,
   "id": "8d6cd3f9",
   "metadata": {},
   "outputs": [
    {
     "data": {
      "text/plain": [
       "0       0.01\n",
       "1       0.01\n",
       "2       0.03\n",
       "3       0.01\n",
       "4       0.00\n",
       "        ... \n",
       "9428    0.06\n",
       "9429    0.00\n",
       "9430    0.08\n",
       "9431    0.10\n",
       "9432    0.09\n",
       "Name: Discount, Length: 9433, dtype: float64"
      ]
     },
     "execution_count": 15,
     "metadata": {},
     "output_type": "execute_result"
    }
   ],
   "source": [
    "# access the discount column\n",
    "data.Discount"
   ]
  },
  {
   "cell_type": "code",
   "execution_count": 16,
   "id": "d828d237",
   "metadata": {},
   "outputs": [
    {
     "data": {
      "text/plain": [
       "0    0.50\n",
       "1    0.93\n",
       "2    6.15\n",
       "3    3.60\n",
       "4    2.50\n",
       "Name: Shipping Cost, dtype: float64"
      ]
     },
     "execution_count": 16,
     "metadata": {},
     "output_type": "execute_result"
    }
   ],
   "source": [
    "# access the top 5 shipping cost coloumn\n",
    "data[\"Shipping Cost\"].head()"
   ]
  },
  {
   "cell_type": "code",
   "execution_count": 17,
   "id": "418ff6a2",
   "metadata": {},
   "outputs": [
    {
     "data": {
      "text/plain": [
       "0    2\n",
       "1    1\n",
       "2    1\n",
       "3    1\n",
       "4    0\n",
       "Name: Shipping Days, dtype: int64"
      ]
     },
     "execution_count": 17,
     "metadata": {},
     "output_type": "execute_result"
    }
   ],
   "source": [
    "# access the Shipping Cost\n",
    "data[\"Shipping Days\"].head()"
   ]
  },
  {
   "cell_type": "code",
   "execution_count": 18,
   "id": "f73462eb",
   "metadata": {},
   "outputs": [
    {
     "data": {
      "text/plain": [
       "164.73"
      ]
     },
     "execution_count": 18,
     "metadata": {},
     "output_type": "execute_result"
    }
   ],
   "source": [
    "# to get the maximum shipping cost\n",
    "data[\"Shipping Cost\"].max()"
   ]
  },
  {
   "cell_type": "code",
   "execution_count": 19,
   "id": "edb623ef",
   "metadata": {},
   "outputs": [
    {
     "data": {
      "text/html": [
       "<div>\n",
       "<style scoped>\n",
       "    .dataframe tbody tr th:only-of-type {\n",
       "        vertical-align: middle;\n",
       "    }\n",
       "\n",
       "    .dataframe tbody tr th {\n",
       "        vertical-align: top;\n",
       "    }\n",
       "\n",
       "    .dataframe thead th {\n",
       "        text-align: right;\n",
       "    }\n",
       "</style>\n",
       "<table border=\"1\" class=\"dataframe\">\n",
       "  <thead>\n",
       "    <tr style=\"text-align: right;\">\n",
       "      <th></th>\n",
       "      <th>Shipping Cost</th>\n",
       "      <th>Customer ID</th>\n",
       "      <th>Unit Price</th>\n",
       "    </tr>\n",
       "  </thead>\n",
       "  <tbody>\n",
       "    <tr>\n",
       "      <th>0</th>\n",
       "      <td>0.50</td>\n",
       "      <td>2</td>\n",
       "      <td>2.88</td>\n",
       "    </tr>\n",
       "    <tr>\n",
       "      <th>1</th>\n",
       "      <td>0.93</td>\n",
       "      <td>3</td>\n",
       "      <td>2.84</td>\n",
       "    </tr>\n",
       "    <tr>\n",
       "      <th>2</th>\n",
       "      <td>6.15</td>\n",
       "      <td>3</td>\n",
       "      <td>6.68</td>\n",
       "    </tr>\n",
       "    <tr>\n",
       "      <th>3</th>\n",
       "      <td>3.60</td>\n",
       "      <td>3</td>\n",
       "      <td>5.68</td>\n",
       "    </tr>\n",
       "    <tr>\n",
       "      <th>4</th>\n",
       "      <td>2.50</td>\n",
       "      <td>3</td>\n",
       "      <td>205.99</td>\n",
       "    </tr>\n",
       "    <tr>\n",
       "      <th>...</th>\n",
       "      <td>...</td>\n",
       "      <td>...</td>\n",
       "      <td>...</td>\n",
       "    </tr>\n",
       "    <tr>\n",
       "      <th>9428</th>\n",
       "      <td>14.72</td>\n",
       "      <td>3402</td>\n",
       "      <td>35.89</td>\n",
       "    </tr>\n",
       "    <tr>\n",
       "      <th>9429</th>\n",
       "      <td>7.49</td>\n",
       "      <td>3402</td>\n",
       "      <td>3.34</td>\n",
       "    </tr>\n",
       "    <tr>\n",
       "      <th>9430</th>\n",
       "      <td>45.70</td>\n",
       "      <td>3402</td>\n",
       "      <td>550.98</td>\n",
       "    </tr>\n",
       "    <tr>\n",
       "      <th>9431</th>\n",
       "      <td>13.99</td>\n",
       "      <td>3403</td>\n",
       "      <td>105.98</td>\n",
       "    </tr>\n",
       "    <tr>\n",
       "      <th>9432</th>\n",
       "      <td>2.50</td>\n",
       "      <td>3403</td>\n",
       "      <td>7.78</td>\n",
       "    </tr>\n",
       "  </tbody>\n",
       "</table>\n",
       "<p>9433 rows × 3 columns</p>\n",
       "</div>"
      ],
      "text/plain": [
       "      Shipping Cost  Customer ID  Unit Price\n",
       "0              0.50            2        2.88\n",
       "1              0.93            3        2.84\n",
       "2              6.15            3        6.68\n",
       "3              3.60            3        5.68\n",
       "4              2.50            3      205.99\n",
       "...             ...          ...         ...\n",
       "9428          14.72         3402       35.89\n",
       "9429           7.49         3402        3.34\n",
       "9430          45.70         3402      550.98\n",
       "9431          13.99         3403      105.98\n",
       "9432           2.50         3403        7.78\n",
       "\n",
       "[9433 rows x 3 columns]"
      ]
     },
     "execution_count": 19,
     "metadata": {},
     "output_type": "execute_result"
    }
   ],
   "source": [
    "# to access more than one coloumn\n",
    "data[[\"Shipping Cost\", \"Customer ID\", \"Unit Price\"]]"
   ]
  },
  {
   "cell_type": "code",
   "execution_count": 20,
   "id": "092e020f",
   "metadata": {},
   "outputs": [
    {
     "data": {
      "text/plain": [
       "array(['Regular Air', 'Express Air', 'Delivery Truck'], dtype=object)"
      ]
     },
     "execution_count": 20,
     "metadata": {},
     "output_type": "execute_result"
    }
   ],
   "source": [
    "#  to return unique method for ship mode\n",
    "data[\"Ship Mode\"].unique()"
   ]
  },
  {
   "cell_type": "code",
   "execution_count": 21,
   "id": "347cffbd",
   "metadata": {},
   "outputs": [
    {
     "data": {
      "text/plain": [
       "array(['Not Specified', 'High', 'Medium', 'Low', nan, 'Critical',\n",
       "       'Critical '], dtype=object)"
      ]
     },
     "execution_count": 21,
     "metadata": {},
     "output_type": "execute_result"
    }
   ],
   "source": [
    "data[\"Order Priority\"].unique()"
   ]
  },
  {
   "cell_type": "code",
   "execution_count": 22,
   "id": "95ffd53a",
   "metadata": {},
   "outputs": [
    {
     "data": {
      "text/plain": [
       "Ship Mode\n",
       "Regular Air       7039\n",
       "Delivery Truck    1285\n",
       "Express Air       1109\n",
       "Name: count, dtype: int64"
      ]
     },
     "execution_count": 22,
     "metadata": {},
     "output_type": "execute_result"
    }
   ],
   "source": [
    "# to get the total number of orders in ship mode (we use value_count)\n",
    "data[\"Ship Mode\"].value_counts()"
   ]
  },
  {
   "cell_type": "markdown",
   "id": "db7f6649",
   "metadata": {},
   "source": [
    "# DATA CLEANING"
   ]
  },
  {
   "cell_type": "code",
   "execution_count": 23,
   "id": "6c2ef58e",
   "metadata": {},
   "outputs": [],
   "source": [
    "# DROP DUPLICATES\n",
    "data.drop_duplicates(inplace=True)"
   ]
  },
  {
   "cell_type": "code",
   "execution_count": 24,
   "id": "b0706416",
   "metadata": {},
   "outputs": [
    {
     "data": {
      "text/plain": [
       "0"
      ]
     },
     "execution_count": 24,
     "metadata": {},
     "output_type": "execute_result"
    }
   ],
   "source": [
    "data.duplicated().sum()"
   ]
  },
  {
   "cell_type": "code",
   "execution_count": 25,
   "id": "5259f368",
   "metadata": {},
   "outputs": [],
   "source": [
    "# Drop COLUMN\n",
    "data.drop(columns=\"Unnamed: 0\", inplace=True)"
   ]
  },
  {
   "cell_type": "code",
   "execution_count": 26,
   "id": "10d47500",
   "metadata": {},
   "outputs": [],
   "source": [
    "# Drop NULL VALUES\n",
    "data.dropna(axis=0, inplace=True)"
   ]
  },
  {
   "cell_type": "code",
   "execution_count": 27,
   "id": "cb56c446",
   "metadata": {},
   "outputs": [
    {
     "data": {
      "text/plain": [
       "Order ID                0\n",
       "Order Priority          0\n",
       "Discount                0\n",
       "Unit Price              0\n",
       "Shipping Cost           0\n",
       "Customer ID             0\n",
       "Customer Name           0\n",
       "Ship Mode               0\n",
       "Customer Segment        0\n",
       "Product Category        0\n",
       "Product Sub-Category    0\n",
       "Product Container       0\n",
       "Product Name            0\n",
       "Product Base Margin     0\n",
       "Region                  0\n",
       "State or Province       0\n",
       "City                    0\n",
       "Postal Code             0\n",
       "Order Date              0\n",
       "Ship Date               0\n",
       "Shipping Days           0\n",
       "Profit                  0\n",
       "Quantity ordered new    0\n",
       "Sales                   0\n",
       "dtype: int64"
      ]
     },
     "execution_count": 27,
     "metadata": {},
     "output_type": "execute_result"
    }
   ],
   "source": [
    "data.isnull().sum()"
   ]
  },
  {
   "cell_type": "code",
   "execution_count": 28,
   "id": "d345ef7e",
   "metadata": {},
   "outputs": [
    {
     "data": {
      "text/plain": [
       "Index(['Order ID', 'Order Priority', 'Discount', 'Unit Price', 'Shipping Cost',\n",
       "       'Customer ID', 'Customer Name', 'Ship Mode', 'Customer Segment',\n",
       "       'Product Category', 'Product Sub-Category', 'Product Container',\n",
       "       'Product Name', 'Product Base Margin', 'Region', 'State or Province',\n",
       "       'City', 'Postal Code', 'Order Date', 'Ship Date', 'Shipping Days',\n",
       "       'Profit', 'Quantity ordered new', 'Sales'],\n",
       "      dtype='object')"
      ]
     },
     "execution_count": 28,
     "metadata": {},
     "output_type": "execute_result"
    }
   ],
   "source": [
    "data.columns"
   ]
  },
  {
   "cell_type": "code",
   "execution_count": 29,
   "id": "90fb60c0",
   "metadata": {},
   "outputs": [
    {
     "data": {
      "text/plain": [
       "array(['Not Specified', 'High', 'Medium', 'Low', 'Critical', 'Critical '],\n",
       "      dtype=object)"
      ]
     },
     "execution_count": 29,
     "metadata": {},
     "output_type": "execute_result"
    }
   ],
   "source": [
    "# to replace \n",
    "data[\"Order Priority\"].unique()"
   ]
  },
  {
   "cell_type": "code",
   "execution_count": 30,
   "id": "05498886",
   "metadata": {},
   "outputs": [],
   "source": [
    "# Replace values\n",
    "data[\"Order Priority\"] = data[\"Order Priority\"].replace('Critical ','Critical')"
   ]
  },
  {
   "cell_type": "code",
   "execution_count": 31,
   "id": "655bdfb6",
   "metadata": {},
   "outputs": [
    {
     "data": {
      "text/plain": [
       "array(['Not Specified', 'High', 'Medium', 'Low', 'Critical'], dtype=object)"
      ]
     },
     "execution_count": 31,
     "metadata": {},
     "output_type": "execute_result"
    }
   ],
   "source": [
    "data[\"Order Priority\"].unique()"
   ]
  },
  {
   "cell_type": "code",
   "execution_count": 32,
   "id": "d17cc61c",
   "metadata": {},
   "outputs": [
    {
     "name": "stdout",
     "output_type": "stream",
     "text": [
      "<class 'pandas.core.frame.DataFrame'>\n",
      "Index: 9330 entries, 0 to 9425\n",
      "Data columns (total 24 columns):\n",
      " #   Column                Non-Null Count  Dtype         \n",
      "---  ------                --------------  -----         \n",
      " 0   Order ID              9330 non-null   int64         \n",
      " 1   Order Priority        9330 non-null   object        \n",
      " 2   Discount              9330 non-null   float64       \n",
      " 3   Unit Price            9330 non-null   float64       \n",
      " 4   Shipping Cost         9330 non-null   float64       \n",
      " 5   Customer ID           9330 non-null   int64         \n",
      " 6   Customer Name         9330 non-null   object        \n",
      " 7   Ship Mode             9330 non-null   object        \n",
      " 8   Customer Segment      9330 non-null   object        \n",
      " 9   Product Category      9330 non-null   object        \n",
      " 10  Product Sub-Category  9330 non-null   object        \n",
      " 11  Product Container     9330 non-null   object        \n",
      " 12  Product Name          9330 non-null   object        \n",
      " 13  Product Base Margin   9330 non-null   float64       \n",
      " 14  Region                9330 non-null   object        \n",
      " 15  State or Province     9330 non-null   object        \n",
      " 16  City                  9330 non-null   object        \n",
      " 17  Postal Code           9330 non-null   int64         \n",
      " 18  Order Date            9330 non-null   datetime64[ns]\n",
      " 19  Ship Date             9330 non-null   datetime64[ns]\n",
      " 20  Shipping Days         9330 non-null   int64         \n",
      " 21  Profit                9330 non-null   float64       \n",
      " 22  Quantity ordered new  9330 non-null   int64         \n",
      " 23  Sales                 9330 non-null   object        \n",
      "dtypes: datetime64[ns](2), float64(5), int64(5), object(12)\n",
      "memory usage: 1.8+ MB\n"
     ]
    }
   ],
   "source": [
    "data.info()"
   ]
  },
  {
   "cell_type": "code",
   "execution_count": 33,
   "id": "dd64cb01",
   "metadata": {},
   "outputs": [],
   "source": [
    "# Changing the sales data type to float\n",
    "data[\"Sales\"] = data[\"Sales\"].astype(float)"
   ]
  },
  {
   "cell_type": "code",
   "execution_count": 34,
   "id": "b164a2eb",
   "metadata": {},
   "outputs": [
    {
     "name": "stdout",
     "output_type": "stream",
     "text": [
      "<class 'pandas.core.frame.DataFrame'>\n",
      "Index: 9330 entries, 0 to 9425\n",
      "Data columns (total 24 columns):\n",
      " #   Column                Non-Null Count  Dtype         \n",
      "---  ------                --------------  -----         \n",
      " 0   Order ID              9330 non-null   int64         \n",
      " 1   Order Priority        9330 non-null   object        \n",
      " 2   Discount              9330 non-null   float64       \n",
      " 3   Unit Price            9330 non-null   float64       \n",
      " 4   Shipping Cost         9330 non-null   float64       \n",
      " 5   Customer ID           9330 non-null   int64         \n",
      " 6   Customer Name         9330 non-null   object        \n",
      " 7   Ship Mode             9330 non-null   object        \n",
      " 8   Customer Segment      9330 non-null   object        \n",
      " 9   Product Category      9330 non-null   object        \n",
      " 10  Product Sub-Category  9330 non-null   object        \n",
      " 11  Product Container     9330 non-null   object        \n",
      " 12  Product Name          9330 non-null   object        \n",
      " 13  Product Base Margin   9330 non-null   float64       \n",
      " 14  Region                9330 non-null   object        \n",
      " 15  State or Province     9330 non-null   object        \n",
      " 16  City                  9330 non-null   object        \n",
      " 17  Postal Code           9330 non-null   int64         \n",
      " 18  Order Date            9330 non-null   datetime64[ns]\n",
      " 19  Ship Date             9330 non-null   datetime64[ns]\n",
      " 20  Shipping Days         9330 non-null   int64         \n",
      " 21  Profit                9330 non-null   float64       \n",
      " 22  Quantity ordered new  9330 non-null   int64         \n",
      " 23  Sales                 9329 non-null   float64       \n",
      "dtypes: datetime64[ns](2), float64(6), int64(5), object(11)\n",
      "memory usage: 1.8+ MB\n"
     ]
    }
   ],
   "source": [
    "data.info()"
   ]
  },
  {
   "cell_type": "code",
   "execution_count": 35,
   "id": "94c7b1e4",
   "metadata": {},
   "outputs": [],
   "source": [
    "# Total sales by order piority\n",
    "salesByPriority = data.groupby(\"Order Priority\")[\"Sales\"].sum()"
   ]
  },
  {
   "cell_type": "code",
   "execution_count": 36,
   "id": "4ffd4f01",
   "metadata": {},
   "outputs": [
    {
     "data": {
      "text/plain": [
       "Order Priority\n",
       "Critical         1613625.92\n",
       "High             1958215.25\n",
       "Low              1863905.28\n",
       "Medium           1605255.32\n",
       "Not Specified    1734516.59\n",
       "Name: Sales, dtype: float64"
      ]
     },
     "execution_count": 36,
     "metadata": {},
     "output_type": "execute_result"
    }
   ],
   "source": [
    "salesByPriority"
   ]
  },
  {
   "cell_type": "code",
   "execution_count": 39,
   "id": "59aee443",
   "metadata": {},
   "outputs": [],
   "source": [
    "#  Calculate average profit by ship mode\n",
    "avg_Profit_By_ShipMode = data.groupby(\"Ship Mode\")[\"Profit\"].mean()"
   ]
  },
  {
   "cell_type": "code",
   "execution_count": 40,
   "id": "41d3710d",
   "metadata": {},
   "outputs": [
    {
     "data": {
      "text/plain": [
       "Ship Mode\n",
       "Delivery Truck    201.107203\n",
       "Express Air       131.968849\n",
       "Regular Air       125.655659\n",
       "Name: Profit, dtype: float64"
      ]
     },
     "execution_count": 40,
     "metadata": {},
     "output_type": "execute_result"
    }
   ],
   "source": [
    "avg_Profit_By_ShipMode"
   ]
  },
  {
   "cell_type": "code",
   "execution_count": 42,
   "id": "77512267",
   "metadata": {},
   "outputs": [],
   "source": [
    "# Calculate average sales by region and customer segment\n",
    "avg_Sales_by_region_and_seg = data.groupby([\"Region\", \"Customer Segment\"])[\"Sales\"].mean()"
   ]
  },
  {
   "cell_type": "code",
   "execution_count": 43,
   "id": "e0bfbefa",
   "metadata": {},
   "outputs": [
    {
     "data": {
      "text/plain": [
       "Region   Customer Segment\n",
       "Central  Consumer             841.351263\n",
       "         Corporate            862.071427\n",
       "         Home Office          944.611823\n",
       "         Small Business       784.298766\n",
       "East     Consumer            1038.497158\n",
       "         Corporate           1117.130927\n",
       "         Home Office          956.357402\n",
       "         Small Business      1030.521944\n",
       "South    Consumer             759.130255\n",
       "         Corporate            813.094723\n",
       "         Home Office          829.243647\n",
       "         Small Business       832.782870\n",
       "West     Consumer            1203.731400\n",
       "         Corporate           1105.966555\n",
       "         Home Office          958.697431\n",
       "         Small Business       875.043589\n",
       "Name: Sales, dtype: float64"
      ]
     },
     "execution_count": 43,
     "metadata": {},
     "output_type": "execute_result"
    }
   ],
   "source": [
    "avg_Sales_by_region_and_seg"
   ]
  },
  {
   "cell_type": "markdown",
   "id": "0f3b69a8",
   "metadata": {},
   "source": [
    "# Data Visualisation"
   ]
  },
  {
   "cell_type": "code",
   "execution_count": 52,
   "id": "76399f1a",
   "metadata": {},
   "outputs": [
    {
     "data": {
      "image/png": "[encoded data removed]",
      "text/plain": [
       "<Figure size 800x400 with 1 Axes>"
      ]
     },
     "metadata": {},
     "output_type": "display_data"
    }
   ],
   "source": [
    "# Scatter Plot\n",
    "# To size the image \n",
    "plt.figure(figsize=(8,4))\n",
    "# Title\n",
    "plt.title(\"A scatter plot showing the relationship trend between Sales and Profit\", fontsize=12, color=\"Blue\")\n",
    "\n",
    "# x title\n",
    "plt.xlabel(\"Profit\")\n",
    "\n",
    "# y title\n",
    "plt.ylabel(\"Sales\")\n",
    "\n",
    "# Graph\n",
    "plt.scatter(data[\"Profit\"],data[\"Sales\"])\n",
    "plt.savefig(\"scatter plot\")"
   ]
  },
  {
   "cell_type": "code",
   "execution_count": 53,
   "id": "bc61de2a",
   "metadata": {},
   "outputs": [
    {
     "data": {
      "image/png": "[encoded data removed]",
      "text/plain": [
       "<Figure size 640x480 with 1 Axes>"
      ]
     },
     "metadata": {},
     "output_type": "display_data"
    }
   ],
   "source": [
    "# Pie chart\n",
    "# Title\n",
    "plt.title(\"A pie chart showing the % of profit by ship mode\")\n",
    "# pie chart\n",
    "plt.pie(avg_Profit_By_ShipMode, labels=avg_Profit_By_ShipMode.index, autopct=\"%.2f%%\");\n",
    "plt.savefig(\"%Profit by Ship mode\")"
   ]
  },
  {
   "cell_type": "code",
   "execution_count": 54,
   "id": "b44ba92f",
   "metadata": {},
   "outputs": [
    {
     "data": {
      "text/plain": [
       "Order Priority\n",
       "Critical         1613625.92\n",
       "High             1958215.25\n",
       "Low              1863905.28\n",
       "Medium           1605255.32\n",
       "Not Specified    1734516.59\n",
       "Name: Sales, dtype: float64"
      ]
     },
     "execution_count": 54,
     "metadata": {},
     "output_type": "execute_result"
    }
   ],
   "source": [
    "salesByPriority"
   ]
  },
  {
   "cell_type": "code",
   "execution_count": 60,
   "id": "2b23c04b",
   "metadata": {},
   "outputs": [
    {
     "data": {
      "image/png": "[encoded data removed]",
      "text/plain": [
       "<Figure size 800x400 with 1 Axes>"
      ]
     },
     "metadata": {},
     "output_type": "display_data"
    }
   ],
   "source": [
    "# Bar chart\n",
    "# figure size\n",
    "plt.figure(figsize=(8,4))\n",
    "# x axis\n",
    "plt.xlabel(\"Order Priority\")\n",
    "# y axis\n",
    "plt.ylabel(\"Sales\")\n",
    "# bar chart\n",
    "plt.bar(salesByPriority.index, salesByPriority.values, color=\"red\");\n",
    "plt.savefig(\"Sales by Priority\")"
   ]
  },
  {
   "cell_type": "code",
   "execution_count": 58,
   "id": "b3ea46d4",
   "metadata": {},
   "outputs": [],
   "source": [
    "data.to_excel(\"Cleand Data.xlsx\")"
   ]
  },
  {
   "cell_type": "code",
   "execution_count": null,
   "id": "91f405af",
   "metadata": {},
   "outputs": [],
   "source": []
  }
 ],
 "metadata": {
  "kernelspec": {
   "display_name": "Python 3 (ipykernel)",
   "language": "python",
   "name": "python3"
  },
  "language_info": {
   "codemirror_mode": {
    "name": "ipython",
    "version": 3
   },
   "file_extension": ".py",
   "mimetype": "text/x-python",
   "name": "python",
   "nbconvert_exporter": "python",
   "pygments_lexer": "ipython3",
   "version": "3.11.4"
  }
 },
 "nbformat": 4,
 "nbformat_minor": 5
}
