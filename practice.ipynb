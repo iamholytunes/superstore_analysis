{
 "cells": [
  {
   "cell_type": "code",
   "execution_count": 1,
   "id": "34c54356",
   "metadata": {
    "scrolled": true
   },
   "outputs": [
    {
     "data": {
      "text/plain": [
       "12345"
      ]
     },
     "execution_count": 1,
     "metadata": {},
     "output_type": "execute_result"
    }
   ],
   "source": [
    "12345"
   ]
  },
  {
   "cell_type": "code",
   "execution_count": 2,
   "id": "12ad180b",
   "metadata": {},
   "outputs": [
    {
     "data": {
      "text/plain": [
       "4353535"
      ]
     },
     "execution_count": 2,
     "metadata": {},
     "output_type": "execute_result"
    }
   ],
   "source": [
    "4353535"
   ]
  },
  {
   "cell_type": "markdown",
   "id": "5260d0db",
   "metadata": {
    "scrolled": true
   },
   "source": [
    "Data Analysis"
   ]
  },
  {
   "cell_type": "markdown",
   "id": "2ae305dd",
   "metadata": {},
   "source": [
    "# Data Analysis"
   ]
  },
  {
   "cell_type": "markdown",
   "id": "493ab652",
   "metadata": {},
   "source": [
    "## Data Analysis"
   ]
  },
  {
   "cell_type": "markdown",
   "id": "83722202",
   "metadata": {},
   "source": [
    "### Data Analysis"
   ]
  },
  {
   "cell_type": "markdown",
   "id": "253a7ccf",
   "metadata": {},
   "source": [
    "#### Data Analysis"
   ]
  },
  {
   "cell_type": "markdown",
   "id": "37234949",
   "metadata": {},
   "source": [
    "##### Data Analysis"
   ]
  },
  {
   "cell_type": "markdown",
   "id": "25312ca8",
   "metadata": {},
   "source": [
    "###### Data Analysis"
   ]
  },
  {
   "cell_type": "code",
   "execution_count": 3,
   "id": "59cb2aa2",
   "metadata": {},
   "outputs": [
    {
     "name": "stdout",
     "output_type": "stream",
     "text": [
      "Hello World!\n"
     ]
    }
   ],
   "source": [
    "print (\"Hello World!\")"
   ]
  },
  {
   "cell_type": "markdown",
   "id": "a226b488",
   "metadata": {},
   "source": [
    "## For single and Multi line Comment"
   ]
  },
  {
   "cell_type": "code",
   "execution_count": 4,
   "id": "da2bb24a",
   "metadata": {},
   "outputs": [
    {
     "name": "stdout",
     "output_type": "stream",
     "text": [
      "Hello\n"
     ]
    }
   ],
   "source": [
    "print (\"Hello\")\n",
    "#print (\"Hello World\")"
   ]
  },
  {
   "cell_type": "code",
   "execution_count": 5,
   "id": "336203b7",
   "metadata": {},
   "outputs": [
    {
     "data": {
      "text/plain": [
       "'\\nprint (\"Hello\")\\nprint (\"Hello World\")\\nprint (\"Hi\")\\nprint (\"Data Analysis\") \\n'"
      ]
     },
     "execution_count": 5,
     "metadata": {},
     "output_type": "execute_result"
    }
   ],
   "source": [
    "\"\"\"\n",
    "print (\"Hello\")\n",
    "print (\"Hello World\")\n",
    "print (\"Hi\")\n",
    "print (\"Data Analysis\") \n",
    "\"\"\""
   ]
  },
  {
   "cell_type": "markdown",
   "id": "1752b183",
   "metadata": {},
   "source": [
    "# Variables"
   ]
  },
  {
   "cell_type": "code",
   "execution_count": 6,
   "id": "23b68dfa",
   "metadata": {},
   "outputs": [
    {
     "name": "stdout",
     "output_type": "stream",
     "text": [
      "Data Analysis\n"
     ]
    }
   ],
   "source": [
    "# VARIABLES ARE CONTAINER FOR STORING VALUES\n",
    "# LEGAL VARIABLES\n",
    "# Camel Case\n",
    "myCourse = \"Data Analysis\"\n",
    "print(myCourse)"
   ]
  },
  {
   "cell_type": "code",
   "execution_count": 7,
   "id": "3d04359a",
   "metadata": {},
   "outputs": [
    {
     "data": {
      "text/plain": [
       "'Softwera Development'"
      ]
     },
     "execution_count": 7,
     "metadata": {},
     "output_type": "execute_result"
    }
   ],
   "source": [
    "# Pascal Case\n",
    "MyCourse =\"Softwera Development\"\n",
    "MyCourse"
   ]
  },
  {
   "cell_type": "code",
   "execution_count": 8,
   "id": "09838f34",
   "metadata": {},
   "outputs": [
    {
     "data": {
      "text/plain": [
       "'Softwera Development'"
      ]
     },
     "execution_count": 8,
     "metadata": {},
     "output_type": "execute_result"
    }
   ],
   "source": [
    "# Snake case- each statement is seperated with _\n",
    "my_course =\"Softwera Development\"\n",
    "my_course"
   ]
  },
  {
   "cell_type": "code",
   "execution_count": 9,
   "id": "1d948bb3",
   "metadata": {},
   "outputs": [],
   "source": [
    "# ILLEGAL VARIABLES\n",
    "# my-course = \"Data Analysis\"\n",
    "# student ID = 86635763\n",
    "# 2mycourse = \"Frontend\""
   ]
  },
  {
   "cell_type": "markdown",
   "id": "ce621899",
   "metadata": {},
   "source": [
    "# Primitive DATA TYPES"
   ]
  },
  {
   "cell_type": "code",
   "execution_count": 10,
   "id": "f051c799",
   "metadata": {},
   "outputs": [
    {
     "name": "stdout",
     "output_type": "stream",
     "text": [
      "Hello World 10 30.7\n"
     ]
    }
   ],
   "source": [
    "# STRINGS\n",
    "a = \"Hello World\"\n",
    "b = \"10\"\n",
    "c = \"30.7\"\n",
    "print(a,b,c)"
   ]
  },
  {
   "cell_type": "code",
   "execution_count": 11,
   "id": "fbb8c410",
   "metadata": {},
   "outputs": [
    {
     "data": {
      "text/plain": [
       "str"
      ]
     },
     "execution_count": 11,
     "metadata": {},
     "output_type": "execute_result"
    }
   ],
   "source": [
    "type (a)"
   ]
  },
  {
   "cell_type": "code",
   "execution_count": 12,
   "id": "d4ed890c",
   "metadata": {},
   "outputs": [],
   "source": [
    "# STRINGS METHODS\n",
    "# Capitalize\n",
    "name = \"samson\"\n",
    "name = name.capitalize()"
   ]
  },
  {
   "cell_type": "code",
   "execution_count": 13,
   "id": "e6edab95",
   "metadata": {},
   "outputs": [
    {
     "data": {
      "text/plain": [
       "'Samson'"
      ]
     },
     "execution_count": 13,
     "metadata": {},
     "output_type": "execute_result"
    }
   ],
   "source": [
    "name"
   ]
  },
  {
   "cell_type": "code",
   "execution_count": 14,
   "id": "b7759e66",
   "metadata": {},
   "outputs": [
    {
     "data": {
      "text/plain": [
       "'SAMSON'"
      ]
     },
     "execution_count": 14,
     "metadata": {},
     "output_type": "execute_result"
    }
   ],
   "source": [
    "# Upper\n",
    "name.upper()"
   ]
  },
  {
   "cell_type": "code",
   "execution_count": 15,
   "id": "c73476b4",
   "metadata": {},
   "outputs": [
    {
     "data": {
      "text/plain": [
       "'samson'"
      ]
     },
     "execution_count": 15,
     "metadata": {},
     "output_type": "execute_result"
    }
   ],
   "source": [
    "# Lower\n",
    "name.lower()"
   ]
  },
  {
   "cell_type": "code",
   "execution_count": 16,
   "id": "4352acb0",
   "metadata": {},
   "outputs": [
    {
     "data": {
      "text/plain": [
       "'sam son'"
      ]
     },
     "execution_count": 16,
     "metadata": {},
     "output_type": "execute_result"
    }
   ],
   "source": [
    "# Strip used to remove blank space\n",
    "name2 = \" sam son \"\n",
    "name2.strip()"
   ]
  },
  {
   "cell_type": "code",
   "execution_count": 17,
   "id": "1454016f",
   "metadata": {},
   "outputs": [
    {
     "data": {
      "text/plain": [
       "'Samsom'"
      ]
     },
     "execution_count": 17,
     "metadata": {},
     "output_type": "execute_result"
    }
   ],
   "source": [
    "# Replace used to replace cahracter\n",
    "name.replace(\"n\",\"m\")"
   ]
  },
  {
   "cell_type": "code",
   "execution_count": 18,
   "id": "9003bc07",
   "metadata": {},
   "outputs": [],
   "source": [
    "# INTEGER\n",
    "num1 = 10\n",
    "num2 = 20\n",
    "num3 = 30"
   ]
  },
  {
   "cell_type": "code",
   "execution_count": 19,
   "id": "13fed948",
   "metadata": {},
   "outputs": [
    {
     "data": {
      "text/plain": [
       "int"
      ]
     },
     "execution_count": 19,
     "metadata": {},
     "output_type": "execute_result"
    }
   ],
   "source": [
    "type (num1)"
   ]
  },
  {
   "cell_type": "code",
   "execution_count": 20,
   "id": "88d9f786",
   "metadata": {},
   "outputs": [
    {
     "data": {
      "text/plain": [
       "20.5"
      ]
     },
     "execution_count": 20,
     "metadata": {},
     "output_type": "execute_result"
    }
   ],
   "source": [
    "# FLOATS\n",
    "float1 = 20.5\n",
    "float1"
   ]
  },
  {
   "cell_type": "code",
   "execution_count": 21,
   "id": "cd14cc67",
   "metadata": {},
   "outputs": [
    {
     "data": {
      "text/plain": [
       "float"
      ]
     },
     "execution_count": 21,
     "metadata": {},
     "output_type": "execute_result"
    }
   ],
   "source": [
    "type(float1)"
   ]
  },
  {
   "cell_type": "code",
   "execution_count": 22,
   "id": "241db1ff",
   "metadata": {},
   "outputs": [
    {
     "data": {
      "text/plain": [
       "bool"
      ]
     },
     "execution_count": 22,
     "metadata": {},
     "output_type": "execute_result"
    }
   ],
   "source": [
    "# BOOLEAN\n",
    "bool1 = True\n",
    "bool2 = False\n",
    "type (bool1)"
   ]
  },
  {
   "cell_type": "code",
   "execution_count": 23,
   "id": "98700315",
   "metadata": {},
   "outputs": [
    {
     "data": {
      "text/plain": [
       "1j"
      ]
     },
     "execution_count": 23,
     "metadata": {},
     "output_type": "execute_result"
    }
   ],
   "source": [
    "# COMPLEX is primitive type that has number and imaginary number\n",
    "number = 1j\n",
    "number"
   ]
  },
  {
   "cell_type": "code",
   "execution_count": 24,
   "id": "0bb69a47",
   "metadata": {},
   "outputs": [
    {
     "data": {
      "text/plain": [
       "complex"
      ]
     },
     "execution_count": 24,
     "metadata": {},
     "output_type": "execute_result"
    }
   ],
   "source": [
    "type (number)"
   ]
  },
  {
   "cell_type": "markdown",
   "id": "01990fb2",
   "metadata": {},
   "source": [
    "# TYPE CASTING"
   ]
  },
  {
   "cell_type": "code",
   "execution_count": 25,
   "id": "86c01213",
   "metadata": {},
   "outputs": [
    {
     "data": {
      "text/plain": [
       "str"
      ]
     },
     "execution_count": 25,
     "metadata": {},
     "output_type": "execute_result"
    }
   ],
   "source": [
    "a =\"10\"\n",
    "type (a)"
   ]
  },
  {
   "cell_type": "code",
   "execution_count": 26,
   "id": "1b063c13",
   "metadata": {},
   "outputs": [],
   "source": [
    "# changing from string to intiger\n",
    "a = int(a)"
   ]
  },
  {
   "cell_type": "code",
   "execution_count": 27,
   "id": "088928a3",
   "metadata": {},
   "outputs": [
    {
     "data": {
      "text/plain": [
       "int"
      ]
     },
     "execution_count": 27,
     "metadata": {},
     "output_type": "execute_result"
    }
   ],
   "source": [
    "type (a)"
   ]
  },
  {
   "cell_type": "code",
   "execution_count": 28,
   "id": "90478a60",
   "metadata": {},
   "outputs": [
    {
     "data": {
      "text/plain": [
       "float"
      ]
     },
     "execution_count": 28,
     "metadata": {},
     "output_type": "execute_result"
    }
   ],
   "source": [
    "# from float to int\n",
    "number = 10.3\n",
    "type (number)"
   ]
  },
  {
   "cell_type": "code",
   "execution_count": 29,
   "id": "bd7bd476",
   "metadata": {},
   "outputs": [
    {
     "data": {
      "text/plain": [
       "int"
      ]
     },
     "execution_count": 29,
     "metadata": {},
     "output_type": "execute_result"
    }
   ],
   "source": [
    "number = int(number)\n",
    "type(number)"
   ]
  },
  {
   "cell_type": "markdown",
   "id": "17513813",
   "metadata": {},
   "source": [
    "# STRINGS CONCATENATION"
   ]
  },
  {
   "cell_type": "code",
   "execution_count": 30,
   "id": "26d7c4e9",
   "metadata": {},
   "outputs": [
    {
     "name": "stdout",
     "output_type": "stream",
     "text": [
      "Elisha Oyeleye\n"
     ]
    }
   ],
   "source": [
    "# first method\n",
    "first_name = \"Elisha\"\n",
    "last_name = \"Oyeleye\"\n",
    "print (first_name,last_name)"
   ]
  },
  {
   "cell_type": "code",
   "execution_count": 31,
   "id": "b0f77423",
   "metadata": {},
   "outputs": [
    {
     "name": "stdout",
     "output_type": "stream",
     "text": [
      "Elisha Oyeleye\n"
     ]
    }
   ],
   "source": [
    "# second method\n",
    "first_name = \"Elisha\"\n",
    "last_name = \"Oyeleye\"\n",
    "print (first_name + \" \" + last_name)"
   ]
  },
  {
   "cell_type": "code",
   "execution_count": 32,
   "id": "40ba6cd8",
   "metadata": {},
   "outputs": [
    {
     "name": "stdout",
     "output_type": "stream",
     "text": [
      "My name is Elisha Oyeleye\n"
     ]
    }
   ],
   "source": [
    "print (\"My name is\",first_name,last_name)"
   ]
  },
  {
   "cell_type": "markdown",
   "id": "7a4c2c43",
   "metadata": {},
   "source": [
    "# OPERATORS"
   ]
  },
  {
   "cell_type": "code",
   "execution_count": 33,
   "id": "2e647b2e",
   "metadata": {
    "scrolled": true
   },
   "outputs": [
    {
     "name": "stdout",
     "output_type": "stream",
     "text": [
      "15\n",
      "5\n",
      "0.5\n",
      "50\n",
      "9765625\n",
      "2\n",
      "0\n"
     ]
    }
   ],
   "source": [
    "# ARITHMETIC OPRATORS ARE +,-,/,**,**,//,%\n",
    "a = 5\n",
    "b = 10\n",
    "# ADDITION\n",
    "print (a + b)\n",
    "\n",
    "# substraction\n",
    "print (b - a)\n",
    "\n",
    "# DIVISION\n",
    "print (a / b)\n",
    "\n",
    "# MULTIPLICATION\n",
    "print (b * a)\n",
    "\n",
    "# EXPONENTS\n",
    "print (a ** b)\n",
    "\n",
    "# FLOOR DIVISION\n",
    "print (b // a)\n",
    "\n",
    "# MODULUS\n",
    "print (b % a)"
   ]
  },
  {
   "cell_type": "code",
   "execution_count": 34,
   "id": "7c989420",
   "metadata": {},
   "outputs": [],
   "source": [
    "# BODMAS\n",
    "# PEMDAS = PARENTHESIS, EXPONENTS, MULTIPLICATION,DIVISION, ADDITION, AND SUBSTACTION"
   ]
  },
  {
   "cell_type": "code",
   "execution_count": 35,
   "id": "b3fb619e",
   "metadata": {},
   "outputs": [
    {
     "data": {
      "text/plain": [
       "8.408163265306122"
      ]
     },
     "execution_count": 35,
     "metadata": {},
     "output_type": "execute_result"
    }
   ],
   "source": [
    "3+5*(10-6)/7**2+5"
   ]
  },
  {
   "cell_type": "code",
   "execution_count": 36,
   "id": "d1a46ee4",
   "metadata": {},
   "outputs": [
    {
     "data": {
      "text/plain": [
       "3515665.0"
      ]
     },
     "execution_count": 36,
     "metadata": {},
     "output_type": "execute_result"
    }
   ],
   "source": [
    "# EXERCISE\n",
    "45+(15-10*9)**4/9-5 "
   ]
  },
  {
   "cell_type": "markdown",
   "id": "14174cba",
   "metadata": {},
   "source": [
    "# ASSIGNMENT OPERATORS"
   ]
  },
  {
   "cell_type": "code",
   "execution_count": 37,
   "id": "3a2f3b1e",
   "metadata": {},
   "outputs": [],
   "source": [
    "# =,+=,-=,*=,**= IT IS USE TO ASSIGN VALUES TO A VARABLE\n",
    "\n",
    "y = 10\n",
    "z = 15"
   ]
  },
  {
   "cell_type": "code",
   "execution_count": 38,
   "id": "305a56a5",
   "metadata": {},
   "outputs": [
    {
     "data": {
      "text/plain": [
       "15"
      ]
     },
     "execution_count": 38,
     "metadata": {},
     "output_type": "execute_result"
    }
   ],
   "source": [
    "y += 5\n",
    "# y = y + 5\n",
    "y"
   ]
  },
  {
   "cell_type": "code",
   "execution_count": 39,
   "id": "15fe00ce",
   "metadata": {},
   "outputs": [
    {
     "data": {
      "text/plain": [
       "10"
      ]
     },
     "execution_count": 39,
     "metadata": {},
     "output_type": "execute_result"
    }
   ],
   "source": [
    "y -= 5\n",
    "# y = y - 5\n",
    "y"
   ]
  },
  {
   "cell_type": "code",
   "execution_count": 40,
   "id": "e3767b15",
   "metadata": {},
   "outputs": [
    {
     "data": {
      "text/plain": [
       "100000"
      ]
     },
     "execution_count": 40,
     "metadata": {},
     "output_type": "execute_result"
    }
   ],
   "source": [
    "y **= 5\n",
    "# y = y ** 5\n",
    "y"
   ]
  },
  {
   "cell_type": "code",
   "execution_count": 41,
   "id": "c7f43ea3",
   "metadata": {},
   "outputs": [
    {
     "data": {
      "text/plain": [
       "500000"
      ]
     },
     "execution_count": 41,
     "metadata": {},
     "output_type": "execute_result"
    }
   ],
   "source": [
    "y *= 5\n",
    "# y = y * 5\n",
    "y"
   ]
  },
  {
   "cell_type": "markdown",
   "id": "dfc4d3dd",
   "metadata": {},
   "source": [
    "# STRING FROMATING"
   ]
  },
  {
   "cell_type": "code",
   "execution_count": 42,
   "id": "82a0cea5",
   "metadata": {},
   "outputs": [
    {
     "name": "stdout",
     "output_type": "stream",
     "text": [
      "My name is Elisha and i am studying Data analysis\n"
     ]
    }
   ],
   "source": [
    "# This is the process of inserting a custom string or vairables in predefined text\n",
    "name = \"Elisha\"\n",
    "course = \"Data analysis\"\n",
    "print (f\"My name is {name} and i am studying {course}\")"
   ]
  },
  {
   "cell_type": "code",
   "execution_count": 43,
   "id": "b3748870",
   "metadata": {},
   "outputs": [
    {
     "name": "stdout",
     "output_type": "stream",
     "text": [
      "My name is Elisha and i am studying Data analysis\n"
     ]
    }
   ],
   "source": [
    "name = \"Elisha\"\n",
    "course = \"Data analysis\"\n",
    "print (\"My name is\", name,\"and i am studying\", course)"
   ]
  },
  {
   "cell_type": "markdown",
   "id": "afb3acf5",
   "metadata": {},
   "source": [
    "# COMPARISON OPERATORS"
   ]
  },
  {
   "cell_type": "code",
   "execution_count": 44,
   "id": "43701732",
   "metadata": {},
   "outputs": [
    {
     "name": "stdout",
     "output_type": "stream",
     "text": [
      "True\n"
     ]
    }
   ],
   "source": [
    "#  == is equal to\n",
    "a = 5\n",
    "b = 5\n",
    "print (a==b)"
   ]
  },
  {
   "cell_type": "code",
   "execution_count": 45,
   "id": "b5f5fa8b",
   "metadata": {},
   "outputs": [
    {
     "name": "stdout",
     "output_type": "stream",
     "text": [
      "False\n"
     ]
    }
   ],
   "source": [
    "# != not equel to\n",
    "x = 10\n",
    "y = 10\n",
    "print (x!=y)"
   ]
  },
  {
   "cell_type": "code",
   "execution_count": 46,
   "id": "b28c91b8",
   "metadata": {},
   "outputs": [
    {
     "name": "stdout",
     "output_type": "stream",
     "text": [
      "True\n"
     ]
    }
   ],
   "source": [
    "# less than\n",
    "p = 12\n",
    "q = 75\n",
    "print (p<q)"
   ]
  },
  {
   "cell_type": "code",
   "execution_count": 47,
   "id": "cd3a8976",
   "metadata": {},
   "outputs": [
    {
     "name": "stdout",
     "output_type": "stream",
     "text": [
      "False\n"
     ]
    }
   ],
   "source": [
    "# greater than\n",
    "p = 12\n",
    "q = 75\n",
    "print (p>q)"
   ]
  },
  {
   "cell_type": "code",
   "execution_count": 48,
   "id": "163199f9",
   "metadata": {},
   "outputs": [
    {
     "name": "stdout",
     "output_type": "stream",
     "text": [
      "True\n"
     ]
    }
   ],
   "source": [
    "#  greater-than or eual to\n",
    "print (30>=30)"
   ]
  },
  {
   "cell_type": "code",
   "execution_count": 49,
   "id": "b153644f",
   "metadata": {},
   "outputs": [
    {
     "name": "stdout",
     "output_type": "stream",
     "text": [
      "False\n"
     ]
    }
   ],
   "source": [
    "#  less-than or eual to\n",
    "print (200>=1000)"
   ]
  },
  {
   "cell_type": "markdown",
   "id": "c9c78008",
   "metadata": {},
   "source": [
    "# LOGICAL OPERATORS"
   ]
  },
  {
   "cell_type": "code",
   "execution_count": 50,
   "id": "a9069d0e",
   "metadata": {},
   "outputs": [
    {
     "name": "stdout",
     "output_type": "stream",
     "text": [
      "False\n"
     ]
    }
   ],
   "source": [
    "# THE AND OPERATOR\n",
    "print (12 > 6 and 10 < 7)\n",
    "# T AND F"
   ]
  },
  {
   "cell_type": "code",
   "execution_count": 51,
   "id": "e4ca64ac",
   "metadata": {},
   "outputs": [
    {
     "name": "stdout",
     "output_type": "stream",
     "text": [
      "False\n"
     ]
    }
   ],
   "source": [
    "print (109<90 and 10>10 and 4 == 4)\n",
    "# F AND F AND T AND T"
   ]
  },
  {
   "cell_type": "code",
   "execution_count": 52,
   "id": "c1964f09",
   "metadata": {},
   "outputs": [
    {
     "name": "stdout",
     "output_type": "stream",
     "text": [
      "True\n"
     ]
    }
   ],
   "source": [
    "# THE OR OPERATOR\n",
    "print (10<8 or 9>10 or 1>0)\n",
    "# F OR F OR T"
   ]
  },
  {
   "cell_type": "code",
   "execution_count": 53,
   "id": "e0ce9fe8",
   "metadata": {},
   "outputs": [
    {
     "name": "stdout",
     "output_type": "stream",
     "text": [
      "True\n"
     ]
    }
   ],
   "source": [
    "# THE NOT OPRTATOR\n",
    "print (not 5>6)"
   ]
  },
  {
   "cell_type": "code",
   "execution_count": 54,
   "id": "24155417",
   "metadata": {},
   "outputs": [
    {
     "name": "stdout",
     "output_type": "stream",
     "text": [
      "True\n"
     ]
    }
   ],
   "source": [
    "print (10>6 and 7<9 or not 5>6 or 9>10 and 6>7)\n",
    "# T AND T OR F OR T AND F\n",
    "# T OR T AND F\n",
    "# T OR F\n",
    "# T"
   ]
  },
  {
   "cell_type": "markdown",
   "id": "19004442",
   "metadata": {},
   "source": [
    "# INPUT FUNCTION"
   ]
  },
  {
   "cell_type": "code",
   "execution_count": 55,
   "id": "4b162833",
   "metadata": {},
   "outputs": [
    {
     "name": "stdout",
     "output_type": "stream",
     "text": [
      "What is your name ? \n",
      "My name is \n"
     ]
    }
   ],
   "source": [
    "name = input(\"What is your name ? \")\n",
    "print (F\"My name is {name}\")"
   ]
  },
  {
   "cell_type": "markdown",
   "id": "66f10fcd",
   "metadata": {},
   "source": [
    "# CONDITIONAL STATEMENTS"
   ]
  },
  {
   "cell_type": "code",
   "execution_count": 56,
   "id": "5bddb1a9",
   "metadata": {},
   "outputs": [
    {
     "name": "stdout",
     "output_type": "stream",
     "text": [
      "X is not greater than Y\n"
     ]
    }
   ],
   "source": [
    "x = 10\n",
    "y = 25\n",
    "z = 40\n",
    "if x>y:\n",
    "    print (\"X is greater than Y\")\n",
    "else:\n",
    "    print(\"X is not greater than Y\")"
   ]
  },
  {
   "cell_type": "code",
   "execution_count": 57,
   "id": "eb78b001",
   "metadata": {},
   "outputs": [
    {
     "name": "stdout",
     "output_type": "stream",
     "text": [
      "Z is also greater than Y\n"
     ]
    }
   ],
   "source": [
    "if x>y:\n",
    "    print (\"X is greater than Y\")\n",
    "elif z>y:\n",
    "    print(\"Z is also greater than Y\")\n",
    "else:\n",
    "    print(\"X is not greater than Y\")"
   ]
  },
  {
   "cell_type": "code",
   "execution_count": 58,
   "id": "dd205167",
   "metadata": {},
   "outputs": [],
   "source": [
    "# MODULUS - IT RETURNS THE REMAINDER\n",
    "num1 = 200\n",
    "num2 = 60\n",
    "num3 = 30  "
   ]
  },
  {
   "cell_type": "code",
   "execution_count": 59,
   "id": "7df65992",
   "metadata": {},
   "outputs": [
    {
     "data": {
      "text/plain": [
       "0"
      ]
     },
     "execution_count": 59,
     "metadata": {},
     "output_type": "execute_result"
    }
   ],
   "source": [
    "num3 % 3"
   ]
  },
  {
   "cell_type": "code",
   "execution_count": 60,
   "id": "2f078370",
   "metadata": {},
   "outputs": [
    {
     "name": "stdout",
     "output_type": "stream",
     "text": [
      "200 is an even number\n"
     ]
    }
   ],
   "source": [
    "if num1 % 2 ==0:\n",
    "    print (f\"{num1} is an even number\")\n",
    "else:\n",
    "    print (f\"{num1} is an odd number\")"
   ]
  },
  {
   "cell_type": "markdown",
   "id": "484d4b0f",
   "metadata": {},
   "source": [
    "# PALINDROME WORDS"
   ]
  },
  {
   "cell_type": "code",
   "execution_count": 61,
   "id": "4c0aac12",
   "metadata": {},
   "outputs": [
    {
     "name": "stdout",
     "output_type": "stream",
     "text": [
      "ROTATOR is a palindrome word\n"
     ]
    }
   ],
   "source": [
    "# palindrome words\n",
    "palindrome = \"rotator\"\n",
    "if palindrome [0:] == palindrome[::-1]:\n",
    "    print(f\"{palindrome.upper()} is a palindrome word\")"
   ]
  },
  {
   "cell_type": "markdown",
   "id": "83e1df5e",
   "metadata": {},
   "source": [
    "# SLICING AND STRIDING"
   ]
  },
  {
   "cell_type": "code",
   "execution_count": 62,
   "id": "7ff2df99",
   "metadata": {},
   "outputs": [
    {
     "data": {
      "text/plain": [
       "'Py'"
      ]
     },
     "execution_count": 62,
     "metadata": {},
     "output_type": "execute_result"
    }
   ],
   "source": [
    "# positive indexing- is accessing an string from the beginging\n",
    "a = \"Python\"\n",
    "a[0:2]"
   ]
  },
  {
   "cell_type": "code",
   "execution_count": 63,
   "id": "78b6b970",
   "metadata": {},
   "outputs": [
    {
     "data": {
      "text/plain": [
       "'thon'"
      ]
     },
     "execution_count": 63,
     "metadata": {},
     "output_type": "execute_result"
    }
   ],
   "source": [
    "a[2:]"
   ]
  },
  {
   "cell_type": "code",
   "execution_count": 64,
   "id": "d085c1a2",
   "metadata": {},
   "outputs": [
    {
     "data": {
      "text/plain": [
       "'n'"
      ]
     },
     "execution_count": 64,
     "metadata": {},
     "output_type": "execute_result"
    }
   ],
   "source": [
    "# negative indexing\n",
    "a[-1]"
   ]
  },
  {
   "cell_type": "code",
   "execution_count": 65,
   "id": "e3fa44f5",
   "metadata": {},
   "outputs": [
    {
     "data": {
      "text/plain": [
       "'tn'"
      ]
     },
     "execution_count": 65,
     "metadata": {},
     "output_type": "execute_result"
    }
   ],
   "source": [
    "# STRIDING\n",
    "# a[start:end:skip]\n",
    "a[2:6:3]"
   ]
  },
  {
   "cell_type": "markdown",
   "id": "19de78ac",
   "metadata": {},
   "source": [
    "# DATA COLLECTION TYPE\n",
    "## 1. LIST OR ARAYS\n",
    "### List are orgnized, mutable,or changable and also allows duplicate values."
   ]
  },
  {
   "cell_type": "code",
   "execution_count": 66,
   "id": "602a66ea",
   "metadata": {},
   "outputs": [
    {
     "data": {
      "text/plain": [
       "['orange', 45, 79.8, True, False, 1j, 45, 45, 45]"
      ]
     },
     "execution_count": 66,
     "metadata": {},
     "output_type": "execute_result"
    }
   ],
   "source": [
    "# LIST\n",
    "values = [\"orange\", 45, 79.8,True, False, 1j, 45, 45, 45]\n",
    "values"
   ]
  },
  {
   "cell_type": "code",
   "execution_count": 67,
   "id": "51b1e21a",
   "metadata": {},
   "outputs": [
    {
     "data": {
      "text/plain": [
       "['Apple', 45, 79.8, True, False, 1j, 45, 45, 45]"
      ]
     },
     "execution_count": 67,
     "metadata": {},
     "output_type": "execute_result"
    }
   ],
   "source": [
    "# TO CHANGE ANY VALUES (index 0 = orange)\n",
    "values[0] = \"Apple\"\n",
    "values"
   ]
  },
  {
   "cell_type": "code",
   "execution_count": 68,
   "id": "bbe75bc8",
   "metadata": {},
   "outputs": [
    {
     "data": {
      "text/plain": [
       "['Apple', 45, 79.8, True, False, 35, 45, 45, 45]"
      ]
     },
     "execution_count": 68,
     "metadata": {},
     "output_type": "execute_result"
    }
   ],
   "source": [
    "values[-4] = 35\n",
    "values"
   ]
  },
  {
   "cell_type": "code",
   "execution_count": 69,
   "id": "899efdc7",
   "metadata": {},
   "outputs": [
    {
     "data": {
      "text/plain": [
       "['Apple', 'Pineapple', 'Cherry', 'Banana']"
      ]
     },
     "execution_count": 69,
     "metadata": {},
     "output_type": "execute_result"
    }
   ],
   "source": [
    "# APPEND METHOD IS USE TO ADD ITEMS TO A VALUE\n",
    "fruits = [ \"Apple\", \"Pineapple\", \"Cherry\"]\n",
    "fruits.append(\"Banana\")\n",
    "fruits"
   ]
  },
  {
   "cell_type": "code",
   "execution_count": 70,
   "id": "8678b55d",
   "metadata": {},
   "outputs": [
    {
     "data": {
      "text/plain": [
       "['Apple', 'Pineapple', 'Cherry', 'Banana', 'WaterMelon', 'Mango', 'Onions']"
      ]
     },
     "execution_count": 70,
     "metadata": {},
     "output_type": "execute_result"
    }
   ],
   "source": [
    "# EXTEND METHODS\n",
    "fruits.extend ([\"WaterMelon\", \"Mango\", \"Onions\"])\n",
    "fruits"
   ]
  },
  {
   "cell_type": "code",
   "execution_count": 71,
   "id": "c98be11e",
   "metadata": {},
   "outputs": [
    {
     "data": {
      "text/plain": [
       "7"
      ]
     },
     "execution_count": 71,
     "metadata": {},
     "output_type": "execute_result"
    }
   ],
   "source": [
    "len(fruits)"
   ]
  },
  {
   "cell_type": "code",
   "execution_count": 72,
   "id": "1b470344",
   "metadata": {},
   "outputs": [
    {
     "data": {
      "text/plain": [
       "['Apple',\n",
       " 'Pineapple',\n",
       " 'Cherry',\n",
       " 'PawPaw',\n",
       " 'Banana',\n",
       " 'WaterMelon',\n",
       " 'Mango',\n",
       " 'Onions']"
      ]
     },
     "execution_count": 72,
     "metadata": {},
     "output_type": "execute_result"
    }
   ],
   "source": [
    "# insert- to know how to use a function just put question mark? e.g fruit.insert?\n",
    "fruits.insert(3, \"PawPaw\")\n",
    "fruits"
   ]
  },
  {
   "cell_type": "code",
   "execution_count": 73,
   "id": "7f22e70d",
   "metadata": {},
   "outputs": [
    {
     "data": {
      "text/plain": [
       "['Math', 'English', 'Data Analysis', 'Computer']"
      ]
     },
     "execution_count": 73,
     "metadata": {},
     "output_type": "execute_result"
    }
   ],
   "source": [
    "subject = [\"Math\", \"English\", \"Data Analysis\", \"Computer\"]\n",
    "subject"
   ]
  },
  {
   "cell_type": "code",
   "execution_count": 74,
   "id": "7a1d8c9d",
   "metadata": {},
   "outputs": [],
   "source": [
    "subject.clear()"
   ]
  },
  {
   "cell_type": "code",
   "execution_count": 75,
   "id": "e6f792b4",
   "metadata": {},
   "outputs": [
    {
     "data": {
      "text/plain": [
       "[]"
      ]
     },
     "execution_count": 75,
     "metadata": {},
     "output_type": "execute_result"
    }
   ],
   "source": [
    "subject"
   ]
  },
  {
   "cell_type": "code",
   "execution_count": 76,
   "id": "5f5e9218",
   "metadata": {},
   "outputs": [],
   "source": [
    "subject.append (\"Computer\")"
   ]
  },
  {
   "cell_type": "code",
   "execution_count": 77,
   "id": "51cf911c",
   "metadata": {},
   "outputs": [
    {
     "data": {
      "text/plain": [
       "['Computer']"
      ]
     },
     "execution_count": 77,
     "metadata": {},
     "output_type": "execute_result"
    }
   ],
   "source": [
    "subject"
   ]
  },
  {
   "cell_type": "code",
   "execution_count": 78,
   "id": "6309fbf3",
   "metadata": {},
   "outputs": [
    {
     "data": {
      "text/plain": [
       "[20, 37, 67, 28, 16, 2, 16, 90]"
      ]
     },
     "execution_count": 78,
     "metadata": {},
     "output_type": "execute_result"
    }
   ],
   "source": [
    "ListOfNunber = [20,37,67,28,16,2,16,90]\n",
    "ListOfNunber"
   ]
  },
  {
   "cell_type": "code",
   "execution_count": 79,
   "id": "83b57a86",
   "metadata": {},
   "outputs": [],
   "source": [
    "# Sort in asending order\n",
    "ListOfNunber.sort()"
   ]
  },
  {
   "cell_type": "code",
   "execution_count": 80,
   "id": "c878fa8e",
   "metadata": {},
   "outputs": [
    {
     "data": {
      "text/plain": [
       "[2, 16, 16, 20, 28, 37, 67, 90]"
      ]
     },
     "execution_count": 80,
     "metadata": {},
     "output_type": "execute_result"
    }
   ],
   "source": [
    "ListOfNunber"
   ]
  },
  {
   "cell_type": "code",
   "execution_count": 81,
   "id": "d6dbf2c9",
   "metadata": {},
   "outputs": [],
   "source": [
    "# sort in decending order\n",
    "ListOfNunber.sort(reverse=True)"
   ]
  },
  {
   "cell_type": "code",
   "execution_count": 82,
   "id": "69069bab",
   "metadata": {},
   "outputs": [
    {
     "data": {
      "text/plain": [
       "[90, 67, 37, 28, 20, 16, 16, 2]"
      ]
     },
     "execution_count": 82,
     "metadata": {},
     "output_type": "execute_result"
    }
   ],
   "source": [
    "ListOfNunber"
   ]
  },
  {
   "cell_type": "code",
   "execution_count": 83,
   "id": "3b94b43e",
   "metadata": {},
   "outputs": [],
   "source": [
    "# COPY\n",
    "fruits2 = fruits.copy()"
   ]
  },
  {
   "cell_type": "code",
   "execution_count": 84,
   "id": "3a50634b",
   "metadata": {},
   "outputs": [
    {
     "data": {
      "text/plain": [
       "['Apple',\n",
       " 'Pineapple',\n",
       " 'Cherry',\n",
       " 'PawPaw',\n",
       " 'Banana',\n",
       " 'WaterMelon',\n",
       " 'Mango',\n",
       " 'Onions']"
      ]
     },
     "execution_count": 84,
     "metadata": {},
     "output_type": "execute_result"
    }
   ],
   "source": [
    "fruits2"
   ]
  },
  {
   "cell_type": "code",
   "execution_count": 85,
   "id": "ce3a44ff",
   "metadata": {},
   "outputs": [
    {
     "data": {
      "text/plain": [
       "'Onions'"
      ]
     },
     "execution_count": 85,
     "metadata": {},
     "output_type": "execute_result"
    }
   ],
   "source": [
    "# POP- it is used to remove the last item of the list if an index is not passed\n",
    "fruits2.pop()"
   ]
  },
  {
   "cell_type": "code",
   "execution_count": 86,
   "id": "59f67dc2",
   "metadata": {},
   "outputs": [
    {
     "data": {
      "text/plain": [
       "['Apple', 'Pineapple', 'Cherry', 'PawPaw', 'Banana', 'WaterMelon', 'Mango']"
      ]
     },
     "execution_count": 86,
     "metadata": {},
     "output_type": "execute_result"
    }
   ],
   "source": [
    "fruits2"
   ]
  },
  {
   "cell_type": "code",
   "execution_count": 87,
   "id": "0495721a",
   "metadata": {},
   "outputs": [
    {
     "data": {
      "text/plain": [
       "'Cherry'"
      ]
     },
     "execution_count": 87,
     "metadata": {},
     "output_type": "execute_result"
    }
   ],
   "source": [
    "fruits2.pop(2)"
   ]
  },
  {
   "cell_type": "code",
   "execution_count": 88,
   "id": "3f1a3011",
   "metadata": {},
   "outputs": [
    {
     "data": {
      "text/plain": [
       "['Apple', 'Pineapple', 'PawPaw', 'Banana', 'WaterMelon', 'Mango']"
      ]
     },
     "execution_count": 88,
     "metadata": {},
     "output_type": "execute_result"
    }
   ],
   "source": [
    "fruits2"
   ]
  },
  {
   "cell_type": "code",
   "execution_count": 89,
   "id": "24b02340",
   "metadata": {},
   "outputs": [],
   "source": [
    "# REMOVE\n",
    "fruits2.remove(\"PawPaw\")"
   ]
  },
  {
   "cell_type": "code",
   "execution_count": 90,
   "id": "dc6e5685",
   "metadata": {},
   "outputs": [
    {
     "data": {
      "text/plain": [
       "['Apple', 'Pineapple', 'Banana', 'WaterMelon', 'Mango']"
      ]
     },
     "execution_count": 90,
     "metadata": {},
     "output_type": "execute_result"
    }
   ],
   "source": [
    "fruits2"
   ]
  },
  {
   "cell_type": "code",
   "execution_count": 91,
   "id": "a26e8560",
   "metadata": {},
   "outputs": [],
   "source": [
    "# DEL\n",
    "del fruits2"
   ]
  },
  {
   "cell_type": "markdown",
   "id": "b91b862e",
   "metadata": {},
   "source": [
    "# TUPLES\n",
    "### Tuples are orderd, immutated and also allows duplicate values"
   ]
  },
  {
   "cell_type": "code",
   "execution_count": 92,
   "id": "93cb8983",
   "metadata": {},
   "outputs": [],
   "source": [
    "roundomTuples = (12, \"python\", True, False, 4j, [1,2,3,4], 'python')"
   ]
  },
  {
   "cell_type": "code",
   "execution_count": 93,
   "id": "e31ec30c",
   "metadata": {},
   "outputs": [
    {
     "data": {
      "text/plain": [
       "(12, 'python', True, False, 4j, [1, 2, 3, 4], 'python')"
      ]
     },
     "execution_count": 93,
     "metadata": {},
     "output_type": "execute_result"
    }
   ],
   "source": [
    "roundomTuples"
   ]
  },
  {
   "cell_type": "code",
   "execution_count": 94,
   "id": "2250f3aa",
   "metadata": {},
   "outputs": [
    {
     "data": {
      "text/plain": [
       "[1, 2, 3, 4]"
      ]
     },
     "execution_count": 94,
     "metadata": {},
     "output_type": "execute_result"
    }
   ],
   "source": [
    "roundomTuples[5]"
   ]
  },
  {
   "cell_type": "code",
   "execution_count": 95,
   "id": "798a2e6c",
   "metadata": {},
   "outputs": [
    {
     "data": {
      "text/plain": [
       "3"
      ]
     },
     "execution_count": 95,
     "metadata": {},
     "output_type": "execute_result"
    }
   ],
   "source": [
    "roundomTuples[5][2]"
   ]
  },
  {
   "cell_type": "code",
   "execution_count": 96,
   "id": "7eca35ac",
   "metadata": {},
   "outputs": [
    {
     "data": {
      "text/plain": [
       "(12, 56, [1, 2, 3, [90, 12]])"
      ]
     },
     "execution_count": 96,
     "metadata": {},
     "output_type": "execute_result"
    }
   ],
   "source": [
    "# ACCESS 90 USING IT'S INDEX\n",
    "number2 = (12,56,[1,2,3,[90,12]])\n",
    "number2"
   ]
  },
  {
   "cell_type": "code",
   "execution_count": 97,
   "id": "c5314872",
   "metadata": {},
   "outputs": [
    {
     "data": {
      "text/plain": [
       "90"
      ]
     },
     "execution_count": 97,
     "metadata": {},
     "output_type": "execute_result"
    }
   ],
   "source": [
    "number2 [2][3][0]"
   ]
  },
  {
   "cell_type": "code",
   "execution_count": 98,
   "id": "3e650d8f",
   "metadata": {},
   "outputs": [
    {
     "data": {
      "text/plain": [
       "(12, 'python', True, False, 4j, [1, 2, 3, 4], 'python')"
      ]
     },
     "execution_count": 98,
     "metadata": {},
     "output_type": "execute_result"
    }
   ],
   "source": [
    "# add an item to an excisting tuple\n",
    "roundomTuples"
   ]
  },
  {
   "cell_type": "code",
   "execution_count": 99,
   "id": "9b5129c3",
   "metadata": {},
   "outputs": [
    {
     "data": {
      "text/plain": [
       "(12, 'python', True, False, 4j, [1, 2, 3, 4], 'python', 'javascript')"
      ]
     },
     "execution_count": 99,
     "metadata": {},
     "output_type": "execute_result"
    }
   ],
   "source": [
    "# cast randomTuples to list\n",
    "tuplesConv = list(roundomTuples)\n",
    "\n",
    "# append\n",
    "tuplesConv.append(\"javascript\")\n",
    "tuplesConv\n",
    "\n",
    "# cast back to tuple\n",
    "roundomTuples = tuple(tuplesConv)\n",
    "roundomTuples"
   ]
  },
  {
   "cell_type": "markdown",
   "id": "346d559f",
   "metadata": {},
   "source": [
    "# SET\n",
    "### Set are unordered immutable and does not allow duplicate values"
   ]
  },
  {
   "cell_type": "code",
   "execution_count": 100,
   "id": "d471b4a9",
   "metadata": {},
   "outputs": [],
   "source": [
    "setOfNumber ={23, 14, 65, 32, 19, 23, 23, 23}\n",
    "# add an element to the set\n",
    "setOfNumber.add (39)"
   ]
  },
  {
   "cell_type": "code",
   "execution_count": 101,
   "id": "53842158",
   "metadata": {},
   "outputs": [
    {
     "data": {
      "text/plain": [
       "{14, 19, 23, 32, 39, 65}"
      ]
     },
     "execution_count": 101,
     "metadata": {},
     "output_type": "execute_result"
    }
   ],
   "source": [
    "setOfNumber"
   ]
  },
  {
   "cell_type": "code",
   "execution_count": 102,
   "id": "36f7bb77",
   "metadata": {},
   "outputs": [],
   "source": [
    "setOfFruits1 = {\"Apple\", \"Cherry\", \"Banan\"}\n",
    "setOfFruits2 = {\"Cherry\", \"Mango\", \"PawPaw\",\"Apple\"}"
   ]
  },
  {
   "cell_type": "markdown",
   "id": "ede5aeff",
   "metadata": {},
   "source": [
    "### UNION"
   ]
  },
  {
   "cell_type": "code",
   "execution_count": 103,
   "id": "5ed50fc0",
   "metadata": {},
   "outputs": [
    {
     "data": {
      "text/plain": [
       "{'Apple', 'Banan', 'Cherry', 'Mango', 'PawPaw'}"
      ]
     },
     "execution_count": 103,
     "metadata": {},
     "output_type": "execute_result"
    }
   ],
   "source": [
    "# UNION\n",
    "setOfFruits1.union(setOfFruits2)"
   ]
  },
  {
   "cell_type": "markdown",
   "id": "0ada9409",
   "metadata": {},
   "source": [
    "### INTERSECTION"
   ]
  },
  {
   "cell_type": "code",
   "execution_count": 104,
   "id": "16af231c",
   "metadata": {},
   "outputs": [
    {
     "data": {
      "text/plain": [
       "{'Apple', 'Cherry'}"
      ]
     },
     "execution_count": 104,
     "metadata": {},
     "output_type": "execute_result"
    }
   ],
   "source": [
    "# INTERSECTION - RETUNS MATCHING ELEMENT\n",
    "setOfFruits1.intersection(setOfFruits2)\n"
   ]
  },
  {
   "cell_type": "markdown",
   "id": "9c9c7b7f",
   "metadata": {},
   "source": [
    "###  DIFFERENCE\n"
   ]
  },
  {
   "cell_type": "code",
   "execution_count": 105,
   "id": "3620efd1",
   "metadata": {},
   "outputs": [
    {
     "data": {
      "text/plain": [
       "{'Banan'}"
      ]
     },
     "execution_count": 105,
     "metadata": {},
     "output_type": "execute_result"
    }
   ],
   "source": [
    "# IT'S bringing out what is not in each sets\n",
    "setOfFruits1.difference(setOfFruits2)"
   ]
  },
  {
   "cell_type": "code",
   "execution_count": 106,
   "id": "b2e7f294",
   "metadata": {},
   "outputs": [
    {
     "data": {
      "text/plain": [
       "{'Mango', 'PawPaw'}"
      ]
     },
     "execution_count": 106,
     "metadata": {},
     "output_type": "execute_result"
    }
   ],
   "source": [
    "setOfFruits2.difference(setOfFruits1)"
   ]
  },
  {
   "cell_type": "markdown",
   "id": "9c906916",
   "metadata": {},
   "source": [
    "# DICTIONARIES\n",
    "### Dictionaries are ordered, Mutable, and doesn't allow duplicate values\n",
    "### KEY : VALUE"
   ]
  },
  {
   "cell_type": "code",
   "execution_count": 107,
   "id": "362d138e",
   "metadata": {},
   "outputs": [],
   "source": [
    "car_details = {\n",
    "    \"car name\":\"Volvo\",\n",
    "    \"colour\" : \"Red\",\n",
    "    \"price\"  : 20000,\n",
    "}"
   ]
  },
  {
   "cell_type": "code",
   "execution_count": 108,
   "id": "8cae8e2a",
   "metadata": {},
   "outputs": [
    {
     "data": {
      "text/plain": [
       "dict"
      ]
     },
     "execution_count": 108,
     "metadata": {},
     "output_type": "execute_result"
    }
   ],
   "source": [
    "type(car_details)"
   ]
  },
  {
   "cell_type": "code",
   "execution_count": 109,
   "id": "46e477a9",
   "metadata": {},
   "outputs": [
    {
     "data": {
      "text/plain": [
       "'Red'"
      ]
     },
     "execution_count": 109,
     "metadata": {},
     "output_type": "execute_result"
    }
   ],
   "source": [
    "car_details[\"colour\"]"
   ]
  },
  {
   "cell_type": "code",
   "execution_count": 110,
   "id": "3d106cd8",
   "metadata": {},
   "outputs": [
    {
     "data": {
      "text/plain": [
       "20000"
      ]
     },
     "execution_count": 110,
     "metadata": {},
     "output_type": "execute_result"
    }
   ],
   "source": [
    "car_details[\"price\"]"
   ]
  },
  {
   "cell_type": "code",
   "execution_count": 111,
   "id": "c0c5a629",
   "metadata": {},
   "outputs": [
    {
     "data": {
      "text/plain": [
       "dict_keys(['car name', 'colour', 'price'])"
      ]
     },
     "execution_count": 111,
     "metadata": {},
     "output_type": "execute_result"
    }
   ],
   "source": [
    "car_details.keys()"
   ]
  },
  {
   "cell_type": "code",
   "execution_count": 112,
   "id": "60681ac5",
   "metadata": {},
   "outputs": [
    {
     "data": {
      "text/plain": [
       "dict_values(['Volvo', 'Red', 20000])"
      ]
     },
     "execution_count": 112,
     "metadata": {},
     "output_type": "execute_result"
    }
   ],
   "source": [
    "car_details.values()"
   ]
  },
  {
   "cell_type": "code",
   "execution_count": 113,
   "id": "488f4334",
   "metadata": {},
   "outputs": [
    {
     "data": {
      "text/plain": [
       "dict_items([('car name', 'Volvo'), ('colour', 'Red'), ('price', 20000)])"
      ]
     },
     "execution_count": 113,
     "metadata": {},
     "output_type": "execute_result"
    }
   ],
   "source": [
    "car_details.items()"
   ]
  },
  {
   "cell_type": "code",
   "execution_count": 114,
   "id": "af72db9e",
   "metadata": {},
   "outputs": [],
   "source": [
    "car_details[\"colour\"] = \"Silver\""
   ]
  },
  {
   "cell_type": "code",
   "execution_count": 115,
   "id": "adb7e3ac",
   "metadata": {},
   "outputs": [
    {
     "data": {
      "text/plain": [
       "{'car name': 'Volvo', 'colour': 'Silver', 'price': 20000}"
      ]
     },
     "execution_count": 115,
     "metadata": {},
     "output_type": "execute_result"
    }
   ],
   "source": [
    "car_details"
   ]
  },
  {
   "cell_type": "code",
   "execution_count": 116,
   "id": "9cf9eaca",
   "metadata": {},
   "outputs": [],
   "source": [
    "# To add more to the car details\n",
    "car_details[\"Year\"] = 2023"
   ]
  },
  {
   "cell_type": "code",
   "execution_count": 117,
   "id": "8fbb6254",
   "metadata": {},
   "outputs": [
    {
     "data": {
      "text/plain": [
       "{'car name': 'Volvo', 'colour': 'Silver', 'price': 20000, 'Year': 2023}"
      ]
     },
     "execution_count": 117,
     "metadata": {},
     "output_type": "execute_result"
    }
   ],
   "source": [
    "car_details"
   ]
  },
  {
   "cell_type": "code",
   "execution_count": 121,
   "id": "de37ddb2",
   "metadata": {},
   "outputs": [],
   "source": [
    "house = { \n",
    "    \"type\" : ['Bungalow', 'Duplex'],\n",
    "    'colour' : ['White', 'Green'],\n",
    "    'plots' : [2, 4],\n",
    "    'price' : [55000000, 140000000]\n",
    "}"
   ]
  },
  {
   "cell_type": "code",
   "execution_count": 124,
   "id": "64f8c38d",
   "metadata": {},
   "outputs": [
    {
     "data": {
      "text/plain": [
       "dict_keys(['type', 'colour', 'plots', 'price'])"
      ]
     },
     "execution_count": 124,
     "metadata": {},
     "output_type": "execute_result"
    }
   ],
   "source": [
    "# key\n",
    "house.keys()"
   ]
  },
  {
   "cell_type": "code",
   "execution_count": 125,
   "id": "58de00e9",
   "metadata": {},
   "outputs": [
    {
     "data": {
      "text/plain": [
       "dict_values([['Bungalow', 'Duplex'], ['White', 'Green'], [2, 4], [55000000, 140000000]])"
      ]
     },
     "execution_count": 125,
     "metadata": {},
     "output_type": "execute_result"
    }
   ],
   "source": [
    "# values\n",
    "house.values()"
   ]
  },
  {
   "cell_type": "code",
   "execution_count": 126,
   "id": "34fb6079",
   "metadata": {},
   "outputs": [
    {
     "data": {
      "text/plain": [
       "dict_items([('type', ['Bungalow', 'Duplex']), ('colour', ['White', 'Green']), ('plots', [2, 4]), ('price', [55000000, 140000000])])"
      ]
     },
     "execution_count": 126,
     "metadata": {},
     "output_type": "execute_result"
    }
   ],
   "source": [
    "# items\n",
    "house.items()"
   ]
  },
  {
   "cell_type": "code",
   "execution_count": 134,
   "id": "5e0e4ccd",
   "metadata": {},
   "outputs": [
    {
     "name": "stdout",
     "output_type": "stream",
     "text": [
      "A White Bungalow house (2 plots) is available for sale at 55000000 Naira\n"
     ]
    }
   ],
   "source": [
    "# A white bungalow (2 plot) is available for sale for 55000000\n",
    "print(f\"A {house['colour'][0]} {house['type'][0]} house ({house['plots'][0]} plots) is available for sale at {house['price'][0]} Naira\")"
   ]
  },
  {
   "cell_type": "code",
   "execution_count": 135,
   "id": "0cf14b94",
   "metadata": {},
   "outputs": [
    {
     "data": {
      "text/plain": [
       "[2, 4]"
      ]
     },
     "execution_count": 135,
     "metadata": {},
     "output_type": "execute_result"
    }
   ],
   "source": [
    "# to delet a key you use pop\n",
    "house.pop(\"plots\")"
   ]
  },
  {
   "cell_type": "code",
   "execution_count": 136,
   "id": "d4bdb0e2",
   "metadata": {},
   "outputs": [
    {
     "data": {
      "text/plain": [
       "{'type': ['Bungalow', 'Duplex'],\n",
       " 'colour': ['White', 'Green'],\n",
       " 'price': [55000000, 140000000]}"
      ]
     },
     "execution_count": 136,
     "metadata": {},
     "output_type": "execute_result"
    }
   ],
   "source": [
    "house"
   ]
  },
  {
   "cell_type": "code",
   "execution_count": 137,
   "id": "1b106713",
   "metadata": {},
   "outputs": [],
   "source": [
    "# to copy \n",
    "elisaHouse = house.copy()"
   ]
  },
  {
   "cell_type": "code",
   "execution_count": 138,
   "id": "eab60a4a",
   "metadata": {},
   "outputs": [
    {
     "data": {
      "text/plain": [
       "{'type': ['Bungalow', 'Duplex'],\n",
       " 'colour': ['White', 'Green'],\n",
       " 'price': [55000000, 140000000]}"
      ]
     },
     "execution_count": 138,
     "metadata": {},
     "output_type": "execute_result"
    }
   ],
   "source": [
    "elisaHouse"
   ]
  },
  {
   "cell_type": "code",
   "execution_count": 139,
   "id": "b9eabfa8",
   "metadata": {},
   "outputs": [],
   "source": [
    "# to clear\n",
    "elisaHouse.clear()"
   ]
  },
  {
   "cell_type": "code",
   "execution_count": 140,
   "id": "dc9ee111",
   "metadata": {},
   "outputs": [
    {
     "data": {
      "text/plain": [
       "['Bungalow', 'Duplex']"
      ]
     },
     "execution_count": 140,
     "metadata": {},
     "output_type": "execute_result"
    }
   ],
   "source": [
    "# to get\n",
    "house.get(\"type\")"
   ]
  },
  {
   "cell_type": "markdown",
   "id": "7ee08ec5",
   "metadata": {},
   "source": [
    "# Loops\n",
    "### It's means iterationnof statements untill a particular conditionis satisfied\n",
    "### Type of LOOPS\n",
    "- FOR LOOPS\n",
    "- WHILE LOOPS\n",
    "\n",
    "**For loops : means iterating over sequence. It's also known as a definite loop**"
   ]
  },
  {
   "cell_type": "code",
   "execution_count": 146,
   "id": "5c3867ee",
   "metadata": {},
   "outputs": [
    {
     "data": {
      "text/plain": [
       "[10, 11, 12, 13, 14, 15, 16, 17]"
      ]
     },
     "execution_count": 146,
     "metadata": {},
     "output_type": "execute_result"
    }
   ],
   "source": [
    "# FOR LOOPS\n",
    "values = [10,11,12,13,14,15,16,17]\n",
    "values"
   ]
  },
  {
   "cell_type": "code",
   "execution_count": 148,
   "id": "418a2021",
   "metadata": {},
   "outputs": [
    {
     "name": "stdout",
     "output_type": "stream",
     "text": [
      "10\n"
     ]
    }
   ],
   "source": [
    "# To print even or odd number\n",
    "a = 10\n",
    "if a%2==0:\n",
    "    print(a)"
   ]
  },
  {
   "cell_type": "code",
   "execution_count": 151,
   "id": "b7e0a005",
   "metadata": {
    "scrolled": true
   },
   "outputs": [
    {
     "name": "stdout",
     "output_type": "stream",
     "text": [
      "10\n",
      "12\n",
      "14\n",
      "16\n"
     ]
    }
   ],
   "source": [
    "for i in values:\n",
    "    if i%2 ==0:\n",
    "        print(i)"
   ]
  },
  {
   "cell_type": "code",
   "execution_count": 152,
   "id": "8feb67b0",
   "metadata": {},
   "outputs": [
    {
     "name": "stdout",
     "output_type": "stream",
     "text": [
      "11\n",
      "13\n",
      "15\n",
      "17\n"
     ]
    }
   ],
   "source": [
    "# for odd number \n",
    "for i in values:\n",
    "    if i%2 ==1:\n",
    "        print(i)"
   ]
  },
  {
   "cell_type": "code",
   "execution_count": 153,
   "id": "51ef9913",
   "metadata": {},
   "outputs": [
    {
     "data": {
      "text/plain": [
       "['noon', 'home', 'madam', 'mom', 'light']"
      ]
     },
     "execution_count": 153,
     "metadata": {},
     "output_type": "execute_result"
    }
   ],
   "source": [
    "words = [\"noon\", \"home\", \"madam\", \"mom\", \"light\"]\n",
    "words"
   ]
  },
  {
   "cell_type": "code",
   "execution_count": 159,
   "id": "afc5dafe",
   "metadata": {},
   "outputs": [
    {
     "name": "stdout",
     "output_type": "stream",
     "text": [
      "noon\n",
      "madam\n",
      "mom\n"
     ]
    }
   ],
   "source": [
    "for i in words:\n",
    "    if i[0:] == i[::-1]:\n",
    "        print(i)"
   ]
  },
  {
   "cell_type": "code",
   "execution_count": 168,
   "id": "c8868fed",
   "metadata": {},
   "outputs": [
    {
     "name": "stdout",
     "output_type": "stream",
     "text": [
      "12\n",
      "13\n",
      "14\n",
      "15\n",
      "16\n",
      "17\n",
      "18\n",
      "19\n"
     ]
    }
   ],
   "source": [
    "# Add 2 to each values\n",
    "for i in values:\n",
    "    i = i+2\n",
    "    print(i)\n",
    "    "
   ]
  },
  {
   "cell_type": "markdown",
   "id": "ce0cecf0",
   "metadata": {},
   "source": [
    "**WHILE LOOPS (INDEFINATE)**\n",
    "- Break Statement\n",
    "- Continue Statement"
   ]
  },
  {
   "cell_type": "code",
   "execution_count": 169,
   "id": "96a8fe99",
   "metadata": {},
   "outputs": [
    {
     "name": "stdout",
     "output_type": "stream",
     "text": [
      "12\n",
      "14\n",
      "16\n",
      "18\n",
      "20\n"
     ]
    }
   ],
   "source": [
    "a = 10\n",
    "while a < 20:\n",
    "    a = a+2\n",
    "    print(a)"
   ]
  },
  {
   "cell_type": "code",
   "execution_count": 2,
   "id": "a47f6e81",
   "metadata": {},
   "outputs": [
    {
     "name": "stdout",
     "output_type": "stream",
     "text": [
      "6\n",
      "7\n",
      "8\n",
      "9\n",
      "10\n"
     ]
    }
   ],
   "source": [
    "# Break Statement\n",
    "x = 5\n",
    "while x < 10:\n",
    "    x = x + 1\n",
    "    print(x)\n",
    "    if x > 10:\n",
    "        break"
   ]
  },
  {
   "cell_type": "code",
   "execution_count": 5,
   "id": "b936cf1a",
   "metadata": {},
   "outputs": [
    {
     "name": "stdout",
     "output_type": "stream",
     "text": [
      "2\n",
      "4\n",
      "5\n"
     ]
    }
   ],
   "source": [
    "# Continue\n",
    "a = 1 \n",
    "while a < 5:\n",
    "    a = a + 1\n",
    "    if a == 3:\n",
    "        continue\n",
    "    print(a)"
   ]
  },
  {
   "cell_type": "markdown",
   "id": "e5a51bcb",
   "metadata": {},
   "source": [
    "# FUNCTION\n",
    "### Function is a block of code which only runs when its is called. you can pass in aguments/parameters into a function.\n",
    "\n",
    "- def function_name(args/params)\n",
    "\n",
    "    ...context\n",
    "    \n",
    " ## Type of Argument\n",
    " - Postional Argument\n",
    " - Default Argument\n",
    " - Key Word Argument"
   ]
  },
  {
   "cell_type": "code",
   "execution_count": 6,
   "id": "8624d6f8",
   "metadata": {},
   "outputs": [],
   "source": [
    "def greet():\n",
    "    print(\"Good Morning\")"
   ]
  },
  {
   "cell_type": "code",
   "execution_count": 7,
   "id": "af1c348c",
   "metadata": {},
   "outputs": [
    {
     "name": "stdout",
     "output_type": "stream",
     "text": [
      "Good Morning\n"
     ]
    }
   ],
   "source": [
    "greet()"
   ]
  },
  {
   "cell_type": "code",
   "execution_count": 12,
   "id": "4820b24f",
   "metadata": {},
   "outputs": [],
   "source": [
    "#  Function with Positional Argument\n",
    "def greet(name):\n",
    "    print(\"Good Morning\", name)"
   ]
  },
  {
   "cell_type": "code",
   "execution_count": 16,
   "id": "7e44b948",
   "metadata": {},
   "outputs": [
    {
     "name": "stdout",
     "output_type": "stream",
     "text": [
      "Good Morning Elisha\n"
     ]
    }
   ],
   "source": [
    "greet(\"Elisha\")"
   ]
  },
  {
   "cell_type": "code",
   "execution_count": 11,
   "id": "41999840",
   "metadata": {},
   "outputs": [],
   "source": [
    "def introduction(name, age):\n",
    "    print(f\"My name is {name} and i am {age} years old\")"
   ]
  },
  {
   "cell_type": "code",
   "execution_count": 12,
   "id": "781bee15",
   "metadata": {},
   "outputs": [
    {
     "name": "stdout",
     "output_type": "stream",
     "text": [
      "My name is Elisha and i am 18 years old\n"
     ]
    }
   ],
   "source": [
    "introduction(\"Elisha\", 18)"
   ]
  },
  {
   "cell_type": "code",
   "execution_count": 23,
   "id": "47e1e562",
   "metadata": {},
   "outputs": [],
   "source": [
    "# Create a function to check if a number is an even number\n",
    "def evenNum(i):\n",
    "    if i%2 ==0:\n",
    "        print(i, \"is an even number\")\n",
    "    else:\n",
    "         print(i, \"is an odd number\")"
   ]
  },
  {
   "cell_type": "code",
   "execution_count": 24,
   "id": "3bfc2af9",
   "metadata": {},
   "outputs": [
    {
     "name": "stdout",
     "output_type": "stream",
     "text": [
      "13 is an odd number\n"
     ]
    }
   ],
   "source": [
    "evenNum(13)"
   ]
  },
  {
   "cell_type": "markdown",
   "id": "34f258fc",
   "metadata": {},
   "source": [
    "# Assigment"
   ]
  },
  {
   "cell_type": "code",
   "execution_count": 5,
   "id": "88b272f6",
   "metadata": {},
   "outputs": [],
   "source": [
    "# Write a function to filter out odd numbers from [23,43,56,78,14,21]\n",
    "def gh(p):\n",
    "    for num in p:\n",
    "        if num % 2 != 0:\n",
    "            print(num, \"is an odd number\")"
   ]
  },
  {
   "cell_type": "code",
   "execution_count": 6,
   "id": "099c9ec1",
   "metadata": {},
   "outputs": [
    {
     "name": "stdout",
     "output_type": "stream",
     "text": [
      "23 is an odd number\n",
      "43 is an odd number\n",
      "21 is an odd number\n"
     ]
    }
   ],
   "source": [
    "gh([23,43,56,78,14,21])"
   ]
  },
  {
   "cell_type": "code",
   "execution_count": 8,
   "id": "07467df7",
   "metadata": {},
   "outputs": [],
   "source": [
    "# Write a function to check if a word is a palindrome(noon)\n",
    "def word(i):\n",
    "        if i[0:] == i[::-1]:\n",
    "            print(i, \"is a palindrome word\")\n",
    "        else:\n",
    "            print(i, \"is not a palindrome word\")"
   ]
  },
  {
   "cell_type": "code",
   "execution_count": 9,
   "id": "6050cd99",
   "metadata": {},
   "outputs": [
    {
     "name": "stdout",
     "output_type": "stream",
     "text": [
      "noon is a palindrome word\n"
     ]
    }
   ],
   "source": [
    "word(\"noon\")"
   ]
  },
  {
   "cell_type": "code",
   "execution_count": 17,
   "id": "c2b617b0",
   "metadata": {},
   "outputs": [],
   "source": [
    "# Default Argument with return statement\n",
    "def sum_number(a=2, b=5):\n",
    "    c = a + b\n",
    "    return c"
   ]
  },
  {
   "cell_type": "code",
   "execution_count": 18,
   "id": "535e6474",
   "metadata": {},
   "outputs": [
    {
     "data": {
      "text/plain": [
       "7"
      ]
     },
     "execution_count": 18,
     "metadata": {},
     "output_type": "execute_result"
    }
   ],
   "source": [
    "sum_number()"
   ]
  },
  {
   "cell_type": "code",
   "execution_count": 22,
   "id": "a6cc8102",
   "metadata": {},
   "outputs": [],
   "source": [
    "# Key-word Argument\n",
    "def square(number,power):\n",
    "    result = number**power\n",
    "    return result"
   ]
  },
  {
   "cell_type": "code",
   "execution_count": 23,
   "id": "18d60925",
   "metadata": {},
   "outputs": [
    {
     "data": {
      "text/plain": [
       "1728"
      ]
     },
     "execution_count": 23,
     "metadata": {},
     "output_type": "execute_result"
    }
   ],
   "source": [
    "square(power=3, number=12)"
   ]
  },
  {
   "cell_type": "markdown",
   "id": "534bdfe0",
   "metadata": {},
   "source": [
    "# CLASSES\n",
    "- Class are user-defined blue print from which objects are created and your class name must be in a capital letter"
   ]
  },
  {
   "cell_type": "code",
   "execution_count": 8,
   "id": "ff126e4a",
   "metadata": {},
   "outputs": [],
   "source": [
    "class Person:\n",
    "#     initalize the class(__init__) self is use to ref class\n",
    "    def __init__(self, name, age, complexion):\n",
    "        self.name = name\n",
    "        self.age = age\n",
    "        self.complexion = complexion\n",
    "#         method to introduce myself\n",
    "    def intro(self):\n",
    "        return f\"My name is {self.name}, i am {self.age} year old, iam {self.complexion} in complexiom.\""
   ]
  },
  {
   "cell_type": "code",
   "execution_count": 9,
   "id": "7a2b1602",
   "metadata": {
    "scrolled": true
   },
   "outputs": [],
   "source": [
    "person_class = Person(\"John\", 13, \"Dark\")\n",
    "another_class = Person(\"Elisha\", 17, \"Yellow\")"
   ]
  },
  {
   "cell_type": "code",
   "execution_count": 10,
   "id": "7ace4e3e",
   "metadata": {},
   "outputs": [
    {
     "data": {
      "text/plain": [
       "'John'"
      ]
     },
     "execution_count": 10,
     "metadata": {},
     "output_type": "execute_result"
    }
   ],
   "source": [
    "person_class.name"
   ]
  },
  {
   "cell_type": "code",
   "execution_count": 11,
   "id": "f5217362",
   "metadata": {},
   "outputs": [
    {
     "data": {
      "text/plain": [
       "17"
      ]
     },
     "execution_count": 11,
     "metadata": {},
     "output_type": "execute_result"
    }
   ],
   "source": [
    "another_class.age"
   ]
  },
  {
   "cell_type": "code",
   "execution_count": 12,
   "id": "6fe1c6ef",
   "metadata": {},
   "outputs": [
    {
     "data": {
      "text/plain": [
       "'My name is Elisha, i am 17 year old, iam Yellow in complexiom.'"
      ]
     },
     "execution_count": 12,
     "metadata": {},
     "output_type": "execute_result"
    }
   ],
   "source": [
    "another_class.intro()"
   ]
  },
  {
   "cell_type": "code",
   "execution_count": 13,
   "id": "85f897ec",
   "metadata": {},
   "outputs": [
    {
     "data": {
      "text/plain": [
       "'My name is John, i am 13 year old, iam Dark in complexiom.'"
      ]
     },
     "execution_count": 13,
     "metadata": {},
     "output_type": "execute_result"
    }
   ],
   "source": [
    "person_class.intro()"
   ]
  },
  {
   "cell_type": "code",
   "execution_count": null,
   "id": "d6c04e8b",
   "metadata": {},
   "outputs": [],
   "source": []
  }
 ],
 "metadata": {
  "kernelspec": {
   "display_name": "Python 3 (ipykernel)",
   "language": "python",
   "name": "python3"
  },
  "language_info": {
   "codemirror_mode": {
    "name": "ipython",
    "version": 3
   },
   "file_extension": ".py",
   "mimetype": "text/x-python",
   "name": "python",
   "nbconvert_exporter": "python",
   "pygments_lexer": "ipython3",
   "version": "3.11.4"
  }
 },
 "nbformat": 4,
 "nbformat_minor": 5
}
